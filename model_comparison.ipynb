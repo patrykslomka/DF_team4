{
 "cells": [
  {
   "cell_type": "code",
   "execution_count": null,
   "id": "90bea7e4",
   "metadata": {},
   "outputs": [],
   "source": [
    "import os\n",
    "import json\n",
    "import logging\n",
    "import pandas as pd\n",
    "from typing import Dict, List\n",
    "from sklearn.feature_extraction.text import TfidfVectorizer, CountVectorizer\n",
    "from sklearn.decomposition import LatentDirichletAllocation, NMF\n",
    "from sklearn.cluster import KMeans\n",
    "from bertopic import BERTopic\n",
    "from keybert import KeyBERT\n",
    "from sentence_transformers import SentenceTransformer\n",
    "import plotly.graph_objects as go\n",
    "from plotly.subplots import make_subplots\n",
    "from wordcloud import WordCloud\n",
    "import matplotlib.pyplot as plt\n",
    "import numpy as np\n",
    "import gensim.corpora as corpora\n",
    "from gensim.models.coherencemodel import CoherenceModel"
   ]
  },
  {
   "cell_type": "code",
   "execution_count": null,
   "id": "f8673f9b",
   "metadata": {},
   "outputs": [],
   "source": [
    "class ModelComparison:\n",
    "  def __init__(self, input_file=\"processed_data.json\", output_dir=\"model_comparison\"):\n",
    "    self.input_file = input_file\n",
    "    self.output_dir = output_dir\n",
    "    self.viz_dir = os.path.join(output_dir, \"visualizations\")\n",
    "    os.makedirs(self.viz_dir, exist_ok=True)\n",
    "    self.sentence_model = SentenceTransformer('all-MiniLM-L6-v2')\n",
    "    self.keybert = KeyBERT(model=self.sentence_model)\n",
    "    \n",
    "  def load_data(self) -> Dict[str, List[str]]:\n",
    "    with open(self.input_file, 'r', encoding='utf-8') as f:\n",
    "        data = json.load(f)\n",
    "    df = pd.DataFrame(data)\n",
    "    return {\n",
    "        'darkweb': df[df['source'] == 'darkweb']['text'].tolist(),\n",
    "        'reddit': df[df['source'] == 'reddit']['text'].tolist()\n",
    "    }\n",
    "    \n"
   ]
  },
  {
   "cell_type": "code",
   "execution_count": 16,
   "id": "af028aea",
   "metadata": {},
   "outputs": [],
   "source": [
    "modelcompare = ModelComparison()\n",
    "data = modelcompare.load_data()\n"
   ]
  },
  {
   "cell_type": "code",
   "execution_count": 17,
   "id": "9ec3e524",
   "metadata": {},
   "outputs": [],
   "source": [
    "darkweb_data = data['darkweb']\n",
    "reddit_data = data['reddit']"
   ]
  },
  {
   "cell_type": "code",
   "execution_count": 18,
   "id": "b6772e3e",
   "metadata": {},
   "outputs": [],
   "source": [
    "def run_BERTopic(texts, n_topics=5):\n",
    "  if not texts:\n",
    "    return None, [], [], None, None\n",
    "  model = BERTopic()\n",
    "  topics, probs = model.fit_transform(texts)\n",
    "  return model, topics, probs"
   ]
  },
  {
   "cell_type": "code",
   "execution_count": 19,
   "id": "1a70b84b",
   "metadata": {},
   "outputs": [],
   "source": [
    "# model, topics, probs = run_BERTopic(darkweb_data)"
   ]
  },
  {
   "cell_type": "code",
   "execution_count": null,
   "id": "6a3a184d",
   "metadata": {},
   "outputs": [
    {
     "name": "stdout",
     "output_type": "stream",
     "text": [
      "0.5096610903724429\n"
     ]
    }
   ],
   "source": [
    "from bertopic.representation import KeyBERTInspired\n",
    "\n",
    "# Fine-tune your topic representations\n",
    "representation_model = KeyBERTInspired()\n",
    "topic_model = BERTopic(nr_topics=\"auto\")\n",
    "topics, probs = topic_model.fit_transform(darkweb_data)\n",
    "\n",
    "\n",
    "embedding_model = \"sentence-transformers/all-MiniLM-L6-v2\"\n",
    "topic_model.save(\"model_comparison/best_models/BERTopic_darkweb\", serialization=\"pytorch\", save_ctfidf=True, save_embedding_model=embedding_model)\n",
    "vectorizer = topic_model.vectorizer_model\n",
    "tokenizer = vectorizer.build_tokenizer()\n",
    "words = vectorizer.get_feature_names_out()\n",
    "tokens = [tokenizer(doc) for doc in darkweb_data]\n",
    "dictionary = corpora.Dictionary(tokens)\n",
    "corpus = [dictionary.doc2bow(token) for token in tokens]\n",
    "topic_words = [[words for words, _ in topic_model.get_topic(topic)] \n",
    "               for topic in range(len(set(topics))-1)]\n",
    "\n",
    "# Evaluate\n",
    "coherence_model = CoherenceModel(topics=topic_words, \n",
    "                                 texts=tokens, \n",
    "                                 corpus=corpus,\n",
    "                                 dictionary=dictionary, \n",
    "                                 coherence='c_v')\n",
    "coherence = coherence_model.get_coherence()\n",
    "print(coherence)"
   ]
  },
  {
   "cell_type": "code",
   "execution_count": 21,
   "id": "43cbdce8",
   "metadata": {},
   "outputs": [
    {
     "name": "stdout",
     "output_type": "stream",
     "text": [
      "0.5096610903724429\n"
     ]
    }
   ],
   "source": [
    "vectorizer = topic_model.vectorizer_model\n",
    "tokenizer = vectorizer.build_tokenizer()\n",
    "words = vectorizer.get_feature_names_out()\n",
    "tokens = [tokenizer(doc) for doc in darkweb_data]\n",
    "dictionary = corpora.Dictionary(tokens)\n",
    "corpus = [dictionary.doc2bow(token) for token in tokens]\n",
    "topic_words_dark = [[words for words, _ in topic_model.get_topic(topic)] \n",
    "               for topic in range(len(set(topics))-1)]\n",
    "\n",
    "# Evaluate\n",
    "coherence_model = CoherenceModel(topics=topic_words_dark, \n",
    "                                 texts=tokens, \n",
    "                                 corpus=corpus,\n",
    "                                 dictionary=dictionary, \n",
    "                                 coherence='c_v')\n",
    "coherence = coherence_model.get_coherence()\n",
    "print(coherence)"
   ]
  },
  {
   "cell_type": "code",
   "execution_count": 22,
   "id": "e9ebe540",
   "metadata": {},
   "outputs": [],
   "source": [
    "representation_model = KeyBERTInspired()\n",
    "topic_model = BERTopic(nr_topics=\"auto\",representation_model=representation_model)\n",
    "topics, probs = topic_model.fit_transform(reddit_data)\n",
    "\n",
    "embedding_model = \"sentence-transformers/all-MiniLM-L6-v2\"\n",
    "topic_model.save(\"model_comparison/best_models/BERTopic_reddit\", serialization=\"pytorch\", save_ctfidf=True, save_embedding_model=embedding_model)"
   ]
  },
  {
   "cell_type": "code",
   "execution_count": 23,
   "id": "d5b814ad",
   "metadata": {},
   "outputs": [
    {
     "name": "stdout",
     "output_type": "stream",
     "text": [
      "0.6232101023586243\n"
     ]
    }
   ],
   "source": [
    "vectorizer = topic_model.vectorizer_model\n",
    "tokenizer = vectorizer.build_tokenizer()\n",
    "words = vectorizer.get_feature_names_out()\n",
    "tokens = [tokenizer(doc) for doc in reddit_data]\n",
    "dictionary = corpora.Dictionary(tokens)\n",
    "corpus = [dictionary.doc2bow(token) for token in tokens]\n",
    "topic_words_reddit = [[words for words, _ in topic_model.get_topic(topic)] \n",
    "               for topic in range(len(set(topics))-1)]\n",
    "\n",
    "# Evaluate\n",
    "coherence_model = CoherenceModel(topics=topic_words_reddit, \n",
    "                                 texts=tokens, \n",
    "                                 corpus=corpus,\n",
    "                                 dictionary=dictionary, \n",
    "                                 coherence='c_v')\n",
    "coherence = coherence_model.get_coherence()\n",
    "print(coherence)"
   ]
  },
  {
   "cell_type": "code",
   "execution_count": 31,
   "id": "5b9f2d2c",
   "metadata": {},
   "outputs": [],
   "source": [
    "from sentence_transformers import SentenceTransformer\n",
    "from sklearn.metrics.pairwise import cosine_similarity\n",
    "import numpy as np\n",
    "\n",
    "model_st = SentenceTransformer(\"all-MiniLM-L6-v2\")\n",
    "\n",
    "# Embed the topic strings\n",
    "embeddings_reddit = model_st.encode(topic_words_reddit, normalize_embeddings=True)\n",
    "embeddings_darkweb = model_st.encode(topic_words_dark, normalize_embeddings=True)"
   ]
  },
  {
   "cell_type": "code",
   "execution_count": 36,
   "id": "57949c17",
   "metadata": {},
   "outputs": [],
   "source": [
    "# Compute cosine similarities between each Reddit and Darkweb topic\n",
    "similarity_matrix = cosine_similarity(embeddings_reddit, embeddings_darkweb)\n",
    "\n",
    "# For each Reddit topic, find the best-matching Darkweb topic\n",
    "threshold = 0.5  # Adjust this threshold as needed\n",
    "common_topics = []\n",
    "unique_reddit = []\n",
    "unique_darkweb = set(range(len(embeddings_darkweb)))  # Keep track of unmatched darkweb topics\n",
    "\n",
    "reddit_topic_ids = list(range(len(embeddings_reddit)))\n",
    "darkweb_topic_ids = list(range(len(embeddings_darkweb)))\n",
    "\n",
    "for i, reddit_topic in enumerate(reddit_topic_ids):\n",
    "    sims = similarity_matrix[i]\n",
    "    max_sim_idx = np.argmax(sims)\n",
    "    max_sim_val = sims[max_sim_idx]\n",
    "\n",
    "    if max_sim_val >= threshold:\n",
    "        darkweb_topic = darkweb_topic_ids[max_sim_idx]\n",
    "        common_topics.append((reddit_topic, darkweb_topic, max_sim_val))\n",
    "        unique_darkweb.discard(darkweb_topic)\n",
    "    else:\n",
    "        unique_reddit.append(reddit_topic)\n"
   ]
  },
  {
   "cell_type": "code",
   "execution_count": 37,
   "id": "bdf888e7",
   "metadata": {},
   "outputs": [
    {
     "name": "stdout",
     "output_type": "stream",
     "text": [
      "Common Topics (Reddit ID, Darkweb ID, Similarity):\n",
      "3 <--> 1 | Sim: 0.72\n",
      "Reddit: ['tor', 'privacy', 'vpn', 'anonymity', 'surveillance', 'protect', 'torbased', 'onionbrowser', 'onion', 'traffic']\n",
      "Darkweb: ['enforcement', 'privacy', 'analytics', 'google', 'safeguard', 'data', 'security', 'information', 'garante', 'leaked']\n",
      "----\n",
      "7 <--> 1 | Sim: 0.74\n",
      "Reddit: ['privacy', 'privacyrelated', 'privacyguides', 'privacytools', 'privacytoolsio', 'freedom', 'cryptopartybln', 'intersection', 'transparent', 'technology']\n",
      "Darkweb: ['enforcement', 'privacy', 'analytics', 'google', 'safeguard', 'data', 'security', 'information', 'garante', 'leaked']\n",
      "----\n",
      "9 <--> 2 | Sim: 0.76\n",
      "Reddit: ['pirate', 'domain', 'torrent', 'thepiratebay', 'redirect', 'qbittorrent', 'tpb', 'website', 'bay', 'btguard']\n",
      "Darkweb: ['proxy', 'piratebay', 'pirate', 'haproxy', 'thepiratebay', 'cloudflare', 'bay', 'load', 'website', 'cache']\n",
      "----\n",
      "11 <--> 13 | Sim: 0.64\n",
      "Reddit: ['linux', 'linux4noobs', 'linuxmemes', 'gnu', 'linuxquestions', 'debian', 'kernel', 'software', 'mobile', 'operating']\n",
      "Darkweb: ['linux', 'distro', 'programmed', 'programmer', 'window', 'program', 'firefox', 'computing', 'accessibility', 'computer']\n",
      "----\n",
      "\n",
      "Unique Reddit Topics:\n",
      "0: ['hacking', 'hacker', 'airplay', 'hacked', 'apple', 'vulnerability', 'wormable', 'leaked', 'breach', 'device']\n",
      "1: ['affiliate', 'spam', 'moderator', 'moderated', 'banning', 'abusive', 'reviewed', 'review', 'userfriendly', 'neutral']\n",
      "2: ['security', 'enterprise', 'guideline', 'community', 'information', 'organization', 'check', 'question', 'rule', 'abide']\n",
      "4: ['darknet', 'shadowban', 'ban', 'spammer', 'network', 'anonymized', 'moderation', 'service', 'sitewide', 'peertopeer']\n",
      "5: ['doom', 'het', 'allesverwoestende', 'slayer', 'nieuwe', 'nieuwste', 'alle', 'demonen', 'chaos', 'playstation']\n",
      "6: ['tail', 'linux', 'macos', 'privacy', 'privacyrelated', 'privacyfocused', 'mac', 'operating', 'anonymity', 'software']\n",
      "8: ['qubes', 'qubesos', 'cyberattack', 'opensource', 'software', 'security', 'privacy', 'securelyisolated', 'digital', 'environment']\n",
      "10: ['opsec', 'security', 'netsec', 'emsec', 'protecting', 'infosec', 'protect', 'enforcement', 'operation', 'vulnerability']\n",
      "12: ['malware', 'antivirus', 'redditmalware', 'ransomware', 'tech', 'search', 'enthusiast', 'techsupport', 'anti', 'type']\n",
      "\n",
      "Unique Darkweb Topics:\n",
      "0: ['vpns', 'vpn', 'openvpn', 'blocklists', 'p2p', 'blocking', 'isp', 'security', 'block', 'privacy']\n",
      "3: ['privacy', 'analytics', 'apps', 'iphone', 'tracking', 'apple', 'personalization', 'app', 'data', 'fingerprinting']\n",
      "4: ['copyright', 'infringement', 'copyrighted', 'lawsuit', 'piracy', 'notice', 'claim', 'sue', 'content', 'court']\n",
      "5: ['crypto', '2024', 'happen', 'doomed', 'ending', 'credit', 'fraud', 'end', 'happened', 'finally']\n",
      "6: ['2025', '2024', 'banning', 'facebook', 'ban', 'tiktok', 'fascism', 'jan', 'lza', 'recent']\n",
      "7: ['encryption', 'criminal', 'outlawing', 'investigation', 'terrorism', 'gang', 'lawful', 'stargate38', 'public', 'device']\n",
      "8: ['kenya', 'passport', 'mpesa', 'sim', 'wallet', 'bank', 'cashing', 'mobile', 'coinbase', 'cashouts']\n",
      "9: ['dht', 'settlement', 'claim', 'extortionate', 'move', 'troll', 'racket', 'victim', 'notice', 'address']\n",
      "10: ['blocklists', 'vpn', 'secure', 'slow', 'sty', 'ineffective', 'using', 'way', '', '']\n",
      "11: ['proxybay', 'cached', 'offlinebay', 'proxy', 'contrail', 'date', 'dump', 'info', '2017', 'database']\n",
      "12: ['privacy', 'tribler', 'client', 'slow', 'support', 'seems', 'better', 'complete', 'quite', '']\n",
      "14: ['seedbox', 'seedboxes', 'tracker', 'upload', 'uploads', 'public', 'provider', 'site', 'host', 'looking']\n",
      "15: ['wifi', 'portforwarding', 'port', 'router', 'window', 'hide', 'change', 'mac', 'tracker', 'changing']\n",
      "16: ['telecommunication', 'telecom', 'provider', 'traffic', 'surveillance', 'ispai', 'enforcement', 'internet', 'monitoring', 'access']\n",
      "17: ['duckduckgo', 'search', 'searching', 'google', 'feature', 'privacy', 'access', 'chat', 'page', 'engine']\n",
      "18: ['lza', 'rza', 'gza', '2023', 'cdda', 'dec', '2013', 'wrote', 'destroyer', 'today']\n",
      "19: ['tracker', 'tracking', 'track', 'monitoring', 'surveillance', 'footstep', 'x265', 'h265', 'detect', 'view']\n",
      "20: ['surveillance', 'police', 'rcmp', 'hacking', 'wiretap', 'spyware', 'infiltrate', 'suspect', 'encrypted', 'criminal']\n",
      "21: ['ban', 'canada', 'effect', '2025', 'banned', 'benefit', 'illusive', 'wrote', 'american', 'working']\n",
      "22: ['github', 'git', 'tor', 'gitlab', 'oniongit', 'onion', 'gitonion', 'maskaw', 'announcements', 'website']\n",
      "23: ['youtube', 'peertube', 'torrent', 'vimeo', 'app', 'piracy', 'share', 'platform', 'content', 'video']\n",
      "24: ['review', 'site', 'thanks', 'choice', 'thank', 'helpful', 'wrote', 'awesome', 'lot', 'need']\n"
     ]
    }
   ],
   "source": [
    "print(\"Common Topics (Reddit ID, Darkweb ID, Similarity):\")\n",
    "for r, d, sim in common_topics:\n",
    "    print(f\"{r} <--> {d} | Sim: {sim:.2f}\")\n",
    "    print(f\"Reddit: {topic_words_reddit[r]}\")\n",
    "    print(f\"Darkweb: {topic_words_dark[d]}\")\n",
    "    print(\"----\")\n",
    "\n",
    "print(\"\\nUnique Reddit Topics:\")\n",
    "for r in unique_reddit:\n",
    "    print(f\"{r}: {topic_words_reddit[r]}\")\n",
    "\n",
    "print(\"\\nUnique Darkweb Topics:\")\n",
    "for d in unique_darkweb:\n",
    "    print(f\"{d}: {topic_words_dark[d]}\")\n"
   ]
  },
  {
   "cell_type": "markdown",
   "id": "5c894a17",
   "metadata": {},
   "source": [
    "## Model comparison"
   ]
  },
  {
   "cell_type": "code",
   "execution_count": 115,
   "id": "039db89b",
   "metadata": {},
   "outputs": [],
   "source": [
    "from gensim.models.ldamodel import LdaModel\n",
    "from gensim.models import Nmf, LsiModel\n",
    "from gensim.models.coherencemodel import CoherenceModel\n",
    "from gensim.test.utils import common_texts\n",
    "from gensim.corpora.dictionary import Dictionary"
   ]
  },
  {
   "cell_type": "code",
   "execution_count": 116,
   "id": "bf90faf2",
   "metadata": {},
   "outputs": [
    {
     "name": "stdout",
     "output_type": "stream",
     "text": [
      "Reddit LDA:\n",
      " c_v : 0.4666475235834685\n",
      " u_mass : -6.204573492932857 \n",
      " pmi : -9.50937364903869 \n",
      "Reddit NMF:\n",
      " c_v : 0.6300982902462886\n",
      " u_mass : -5.332711584099025 \n",
      " pmi : -9.030465684369595 \n",
      "Reddit LSI:\n",
      " c_v : 0.43941017995398274\n",
      " u_mass : -15.784981449828477 \n",
      " pmi : -7.577258073502334 \n"
     ]
    }
   ],
   "source": [
    "new_data = [list(str.split()) for str in reddit_data]\n",
    "common_dictionary = Dictionary(new_data)\n",
    "common_corpus = [common_dictionary.doc2bow(text) for text in new_data]\n",
    "lda = LdaModel(common_corpus, id2word=common_dictionary)\n",
    "cv = CoherenceModel(model=lda, texts=new_data, corpus=common_corpus, dictionary=common_dictionary, coherence='c_v')\n",
    "u_mass = CoherenceModel(model=lda, texts=new_data, corpus=common_corpus, dictionary=common_dictionary, coherence='u_mass')\n",
    "c_uci = CoherenceModel(model=lda, texts=new_data, corpus=common_corpus, dictionary=common_dictionary, coherence='c_uci')\n",
    "\n",
    "cv_score = cv.get_coherence()  # get coherence value\n",
    "u_mass_score = u_mass.get_coherence()\n",
    "c_uci_score = c_uci.get_coherence()\n",
    "print(f\"Reddit LDA:\\n c_v : {cv_score}\\n u_mass : {u_mass_score} \\n pmi : {c_uci_score} \")\n",
    "\n",
    "nmf = Nmf(common_corpus, id2word=common_dictionary)\n",
    "cv = CoherenceModel(model=nmf, texts=new_data, corpus=common_corpus, dictionary=common_dictionary, coherence='c_v')\n",
    "u_mass = CoherenceModel(model=nmf, texts=new_data, corpus=common_corpus, dictionary=common_dictionary, coherence='u_mass')\n",
    "c_uci = CoherenceModel(model=nmf, texts=new_data, corpus=common_corpus, dictionary=common_dictionary, coherence='c_uci')\n",
    "\n",
    "cv_score = cv.get_coherence()  # get coherence value\n",
    "u_mass_score = u_mass.get_coherence()\n",
    "c_uci_score = c_uci.get_coherence()\n",
    "print(f\"Reddit NMF:\\n c_v : {cv_score}\\n u_mass : {u_mass_score} \\n pmi : {c_uci_score} \")\n",
    "\n",
    "lsi = LsiModel(common_corpus, id2word=common_dictionary)\n",
    "cv = CoherenceModel(model=lsi, texts=new_data, corpus=common_corpus, dictionary=common_dictionary, coherence='c_v')\n",
    "u_mass = CoherenceModel(model=lsi, texts=new_data, corpus=common_corpus, dictionary=common_dictionary, coherence='u_mass')\n",
    "c_uci = CoherenceModel(model=lsi, texts=new_data, corpus=common_corpus, dictionary=common_dictionary, coherence='c_uci')\n",
    "\n",
    "cv_score = cv.get_coherence()  # get coherence value\n",
    "u_mass_score = u_mass.get_coherence()\n",
    "c_uci_score = c_uci.get_coherence()\n",
    "print(f\"Reddit LSI:\\n c_v : {cv_score}\\n u_mass : {u_mass_score} \\n pmi : {c_uci_score} \")\n"
   ]
  },
  {
   "cell_type": "code",
   "execution_count": 117,
   "id": "32e86539",
   "metadata": {},
   "outputs": [
    {
     "name": "stdout",
     "output_type": "stream",
     "text": [
      "Darkweb LDA:\n",
      " c_v : 0.31228945276966924\n",
      " u_mass : -2.9716530382097504 \n",
      " pmi : -4.055214631782007 \n",
      "Darkweb NMF:\n",
      " c_v : 0.4523762118167143\n",
      " u_mass : -3.275117256224011 \n",
      " pmi : -5.637451804157724 \n",
      "Reddit LSI:\n",
      " c_v : 0.4236290078633918\n",
      " u_mass : -7.043392617985054 \n",
      " pmi : -9.687420064333605 \n"
     ]
    }
   ],
   "source": [
    "new_data = [list(str.split()) for str in darkweb_data]\n",
    "common_dictionary = Dictionary(new_data)\n",
    "common_corpus = [common_dictionary.doc2bow(text) for text in new_data]\n",
    "lda = LdaModel(common_corpus, id2word=common_dictionary)\n",
    "cv = CoherenceModel(model=lda, texts=new_data, corpus=common_corpus, dictionary=common_dictionary, coherence='c_v')\n",
    "u_mass = CoherenceModel(model=lda, texts=new_data, corpus=common_corpus, dictionary=common_dictionary, coherence='u_mass')\n",
    "c_uci = CoherenceModel(model=lda, texts=new_data, corpus=common_corpus, dictionary=common_dictionary, coherence='c_uci')\n",
    "\n",
    "cv_score = cv.get_coherence()  # get coherence value\n",
    "u_mass_score = u_mass.get_coherence()\n",
    "c_uci_score = c_uci.get_coherence()\n",
    "print(f\"Darkweb LDA:\\n c_v : {cv_score}\\n u_mass : {u_mass_score} \\n pmi : {c_uci_score} \")\n",
    "\n",
    "nmf = Nmf(common_corpus, id2word=common_dictionary)\n",
    "cv = CoherenceModel(model=nmf, texts=new_data, corpus=common_corpus, dictionary=common_dictionary, coherence='c_v')\n",
    "u_mass = CoherenceModel(model=nmf, texts=new_data, corpus=common_corpus, dictionary=common_dictionary, coherence='u_mass')\n",
    "c_uci = CoherenceModel(model=nmf, texts=new_data, corpus=common_corpus, dictionary=common_dictionary, coherence='c_uci')\n",
    "\n",
    "cv_score = cv.get_coherence()  # get coherence value\n",
    "u_mass_score = u_mass.get_coherence()\n",
    "c_uci_score = c_uci.get_coherence()\n",
    "print(f\"Darkweb NMF:\\n c_v : {cv_score}\\n u_mass : {u_mass_score} \\n pmi : {c_uci_score} \")\n",
    "\n",
    "lsi = LsiModel(common_corpus, id2word=common_dictionary)\n",
    "cv = CoherenceModel(model=lsi, texts=new_data, corpus=common_corpus, dictionary=common_dictionary, coherence='c_v')\n",
    "u_mass = CoherenceModel(model=lsi, texts=new_data, corpus=common_corpus, dictionary=common_dictionary, coherence='u_mass')\n",
    "c_uci = CoherenceModel(model=lsi, texts=new_data, corpus=common_corpus, dictionary=common_dictionary, coherence='c_uci')\n",
    "\n",
    "cv_score = cv.get_coherence()  # get coherence value\n",
    "u_mass_score = u_mass.get_coherence()\n",
    "c_uci_score = c_uci.get_coherence()\n",
    "print(f\"Reddit LSI:\\n c_v : {cv_score}\\n u_mass : {u_mass_score} \\n pmi : {c_uci_score} \")\n"
   ]
  },
  {
   "cell_type": "code",
   "execution_count": 123,
   "id": "6ccc9d78",
   "metadata": {},
   "outputs": [
    {
     "name": "stdout",
     "output_type": "stream",
     "text": [
      "Darkweb BERTopic:\n",
      " c_v : 0.49210756883612383\n",
      " u_mass : -4.995008254002581 \n",
      " pmi : -4.995008254002581 \n"
     ]
    }
   ],
   "source": [
    "representation_model = KeyBERTInspired()\n",
    "topic_model = BERTopic(nr_topics=\"auto\", representation_model=representation_model)\n",
    "topics, probs = topic_model.fit_transform(darkweb_data)\n",
    "\n",
    "vectorizer = topic_model.vectorizer_model\n",
    "tokenizer = vectorizer.build_tokenizer()\n",
    "words = vectorizer.get_feature_names_out()\n",
    "tokens = [tokenizer(doc) for doc in darkweb_data]\n",
    "dictionary = corpora.Dictionary(tokens)\n",
    "corpus = [dictionary.doc2bow(token) for token in tokens]\n",
    "topic_words = [[words for words, _ in topic_model.get_topic(topic)] \n",
    "               for topic in range(len(set(topics))-1)]\n",
    "\n",
    "# Evaluate\n",
    "cv = CoherenceModel(topics=topic_words, \n",
    "                                 texts=tokens, \n",
    "                                 corpus=corpus,\n",
    "                                 dictionary=dictionary, \n",
    "                                 coherence='c_v')\n",
    "cv_score = cv.get_coherence()\n",
    "u_mass = CoherenceModel(topics=topic_words, \n",
    "                                 texts=tokens, \n",
    "                                 corpus=corpus,\n",
    "                                 dictionary=dictionary, \n",
    "                                 coherence='u_mass')\n",
    "u_mass_score = u_mass.get_coherence()\n",
    "\n",
    "c_uci\n",
    "c_uci = CoherenceModel(topics=topic_words, \n",
    "                                 texts=tokens, \n",
    "                                 corpus=corpus,\n",
    "                                 dictionary=dictionary, \n",
    "                                 coherence='c_uci')\n",
    "c_uci_score = u_mass.get_coherence()\n",
    "print(f\"Darkweb BERTopic:\\n c_v : {cv_score}\\n u_mass : {u_mass_score} \\n pmi : {c_uci_score} \")\n"
   ]
  },
  {
   "cell_type": "code",
   "execution_count": 122,
   "id": "7ef8344b",
   "metadata": {},
   "outputs": [
    {
     "name": "stdout",
     "output_type": "stream",
     "text": [
      "Reddit BERTopic:\n",
      " c_v : 0.5910465170259444\n",
      " u_mass : -5.47825871655975 \n",
      " pmi : -5.47825871655975 \n"
     ]
    }
   ],
   "source": [
    "representation_model = KeyBERTInspired()\n",
    "topic_model = BERTopic(nr_topics=\"auto\", representation_model=representation_model)\n",
    "topics, probs = topic_model.fit_transform(reddit_data)\n",
    "\n",
    "vectorizer = topic_model.vectorizer_model\n",
    "tokenizer = vectorizer.build_tokenizer()\n",
    "words = vectorizer.get_feature_names_out()\n",
    "tokens = [tokenizer(doc) for doc in reddit_data]\n",
    "dictionary = corpora.Dictionary(tokens)\n",
    "corpus = [dictionary.doc2bow(token) for token in tokens]\n",
    "topic_words = [[words for words, _ in topic_model.get_topic(topic)] \n",
    "               for topic in range(len(set(topics))-1)]\n",
    "\n",
    "# Evaluate\n",
    "cv = CoherenceModel(topics=topic_words, \n",
    "                                 texts=tokens, \n",
    "                                 corpus=corpus,\n",
    "                                 dictionary=dictionary, \n",
    "                                 coherence='c_v')\n",
    "cv_score = cv.get_coherence()\n",
    "u_mass = CoherenceModel(topics=topic_words, \n",
    "                                 texts=tokens, \n",
    "                                 corpus=corpus,\n",
    "                                 dictionary=dictionary, \n",
    "                                 coherence='u_mass')\n",
    "u_mass_score = u_mass.get_coherence()\n",
    "\n",
    "c_uci\n",
    "c_uci = CoherenceModel(topics=topic_words, \n",
    "                                 texts=tokens, \n",
    "                                 corpus=corpus,\n",
    "                                 dictionary=dictionary, \n",
    "                                 coherence='c_uci')\n",
    "c_uci_score = u_mass.get_coherence()\n",
    "print(f\"Reddit BERTopic:\\n c_v : {cv_score}\\n u_mass : {u_mass_score} \\n pmi : {c_uci_score} \")\n"
   ]
  },
  {
   "cell_type": "code",
   "execution_count": 124,
   "id": "36ccb5b5",
   "metadata": {},
   "outputs": [],
   "source": [
    "representation_model = KeyBERTInspired()\n",
    "reddit_model = BERTopic(nr_topics=\"auto\", representation_model=representation_model)\n",
    "topics, probs = reddit_model.fit_transform(reddit_data)\n",
    "dark_model = BERTopic(nr_topics=\"auto\", representation_model=representation_model)\n",
    "topics, probs = dark_model.fit_transform(darkweb_data)"
   ]
  },
  {
   "cell_type": "code",
   "execution_count": 125,
   "id": "9106e999",
   "metadata": {},
   "outputs": [
    {
     "data": {
      "application/vnd.plotly.v1+json": {
       "config": {
        "plotlyServerURL": "https://plot.ly"
       },
       "data": [
        {
         "customdata": [
          [
           0,
           "blocklists | p2p | blocking | block | vpns",
           698
          ],
          [
           1,
           "privacy | analytics | google | safeguard | data",
           73
          ],
          [
           2,
           "rodneyyouplonker | 2023 | freedom | nov | dec",
           50
          ],
          [
           3,
           "illinois | lawsuit | facial | biometric | claiming",
           49
          ],
          [
           4,
           "encryption | encrypted | privacyprotective | security | unencrypted",
           32
          ],
          [
           5,
           "copyright | infringement | copyrighted | lawsuit | piracy",
           28
          ],
          [
           6,
           "snooping | platform | spyware | european | government",
           28
          ],
          [
           7,
           "lza | rza | gza | 2023 | cdda",
           26
          ],
          [
           8,
           "2025 | 2024 | banning | facebook | ban",
           23
          ],
          [
           9,
           "crypto | 2024 | happen | doomed | ending",
           23
          ],
          [
           10,
           "encryption | criminal | outlawing | investigation | terrorism",
           22
          ],
          [
           11,
           "crypto | cryptocurrencies | decentralized | banking | bank",
           20
          ],
          [
           12,
           "proxybay | cached | offlinebay | proxy | contrail",
           20
          ],
          [
           13,
           "dht | settlement | claim | extortionate | move",
           20
          ],
          [
           14,
           "blocklists | p2p | vpn | filter | traffic",
           20
          ],
          [
           15,
           "privacy | tribler | client | slow | support",
           20
          ],
          [
           16,
           "blocklists | vpn | secure | slow | sty",
           20
          ],
          [
           17,
           "seedbox | seedboxes | tracker | upload | uploads",
           18
          ],
          [
           18,
           "linux | distro | programmed | programmer | window",
           18
          ],
          [
           19,
           "wifi | portforwarding | port | router | window",
           18
          ],
          [
           20,
           "webtorrent | torrent | streaming | seedbox | vps",
           18
          ],
          [
           21,
           "duckduckgo | search | searching | google | feature",
           17
          ],
          [
           22,
           "vpns | vpn | purevpn | vyprvpn | privacy",
           16
          ],
          [
           23,
           "tracker | tracking | track | h265 | x265",
           16
          ],
          [
           24,
           "surveillance | police | rcmp | hacking | wiretap",
           15
          ],
          [
           25,
           "ban | canada | effect | 2025 | banned",
           14
          ],
          [
           26,
           "github | git | tor | gitlab | oniongit",
           13
          ],
          [
           27,
           "kenya | passport | mpesa | sim | wallet",
           12
          ],
          [
           28,
           "youtube | peertube | torrent | vimeo | app",
           12
          ],
          [
           29,
           "review | site | thanks | choice | thank",
           12
          ],
          [
           30,
           "telecommunication | telecom | provider | traffic | surveillance",
           11
          ]
         ],
         "hovertemplate": "<b>Topic %{customdata[0]}</b><br>%{customdata[1]}<br>Size: %{customdata[2]}",
         "legendgroup": "",
         "marker": {
          "color": "#B0BEC5",
          "line": {
           "color": "DarkSlateGrey",
           "width": 2
          },
          "size": {
           "bdata": "ugJJADIAMQAgABwAHAAaABcAFwAWABQAFAAUABQAFAAUABIAEgASABIAEQAQABAADwAOAA0ADAAMAAwACwA=",
           "dtype": "i2"
          },
          "sizemode": "area",
          "sizeref": 0.43625,
          "symbol": "circle"
         },
         "mode": "markers",
         "name": "",
         "orientation": "v",
         "showlegend": false,
         "type": "scatter",
         "x": {
          "bdata": "yUgpQX0IzEBemnJB/A7OQL1SnsCNj3ZBtOVAQewbTUHYs3ZBTHGWwHM7ekGgJqHA4iPAQNlaMkEBISNBHBHWQM5tIEGsiyJBRjNJQQ+qLEEtbx5BNUdBQRxVKkGXSDJBE9fDQIQwc0Gj7zBB/aWowC6GHEEGq79A/o4tQQ==",
          "dtype": "f4"
         },
         "xaxis": "x",
         "y": {
          "bdata": "33vCQGD8P0Hy1JhBZ/5AQWX7wz9Bv5ZBspqnQHYQqkD1lptBDf6mP7ogmkEGX88/94KJwCIAuEDnvb1AWvZEQQqJukBcSopAw6uuQJwmrEB/NINAk2+iQMKIu0AeatdAl9o7QX8LnUF5pr5AtDDtP1ARfEAE/InAooTQQA==",
          "dtype": "f4"
         },
         "yaxis": "y"
        }
       ],
       "layout": {
        "annotations": [
         {
          "showarrow": false,
          "text": "D1",
          "x": -6.060801577568054,
          "y": 8.808194828033447,
          "yshift": 10
         },
         {
          "showarrow": false,
          "text": "D2",
          "x": 5.962319743633271,
          "xshift": 10,
          "y": 22.575205326080322
         }
        ],
        "height": 650,
        "hoverlabel": {
         "bgcolor": "white",
         "font": {
          "family": "Rockwell",
          "size": 16
         }
        },
        "legend": {
         "itemsizing": "constant",
         "tracegroupgap": 0
        },
        "margin": {
         "t": 60
        },
        "shapes": [
         {
          "line": {
           "color": "#CFD8DC",
           "width": 2
          },
          "type": "line",
          "x0": 5.962319743633271,
          "x1": 5.962319743633271,
          "y0": -4.958815670013427,
          "y1": 22.575205326080322
         },
         {
          "line": {
           "color": "#9E9E9E",
           "width": 2
          },
          "type": "line",
          "x0": -6.060801577568054,
          "x1": 17.985441064834596,
          "y0": 8.808194828033447,
          "y1": 8.808194828033447
         }
        ],
        "sliders": [
         {
          "active": 0,
          "pad": {
           "t": 50
          },
          "steps": [
           {
            "args": [
             {
              "marker.color": [
               [
                "red",
                "#B0BEC5",
                "#B0BEC5",
                "#B0BEC5",
                "#B0BEC5",
                "#B0BEC5",
                "#B0BEC5",
                "#B0BEC5",
                "#B0BEC5",
                "#B0BEC5",
                "#B0BEC5",
                "#B0BEC5",
                "#B0BEC5",
                "#B0BEC5",
                "#B0BEC5",
                "#B0BEC5",
                "#B0BEC5",
                "#B0BEC5",
                "#B0BEC5",
                "#B0BEC5",
                "#B0BEC5",
                "#B0BEC5",
                "#B0BEC5",
                "#B0BEC5",
                "#B0BEC5",
                "#B0BEC5",
                "#B0BEC5",
                "#B0BEC5",
                "#B0BEC5",
                "#B0BEC5",
                "#B0BEC5"
               ]
              ]
             }
            ],
            "label": "Topic 0",
            "method": "update"
           },
           {
            "args": [
             {
              "marker.color": [
               [
                "#B0BEC5",
                "red",
                "#B0BEC5",
                "#B0BEC5",
                "#B0BEC5",
                "#B0BEC5",
                "#B0BEC5",
                "#B0BEC5",
                "#B0BEC5",
                "#B0BEC5",
                "#B0BEC5",
                "#B0BEC5",
                "#B0BEC5",
                "#B0BEC5",
                "#B0BEC5",
                "#B0BEC5",
                "#B0BEC5",
                "#B0BEC5",
                "#B0BEC5",
                "#B0BEC5",
                "#B0BEC5",
                "#B0BEC5",
                "#B0BEC5",
                "#B0BEC5",
                "#B0BEC5",
                "#B0BEC5",
                "#B0BEC5",
                "#B0BEC5",
                "#B0BEC5",
                "#B0BEC5",
                "#B0BEC5"
               ]
              ]
             }
            ],
            "label": "Topic 1",
            "method": "update"
           },
           {
            "args": [
             {
              "marker.color": [
               [
                "#B0BEC5",
                "#B0BEC5",
                "red",
                "#B0BEC5",
                "#B0BEC5",
                "#B0BEC5",
                "#B0BEC5",
                "#B0BEC5",
                "#B0BEC5",
                "#B0BEC5",
                "#B0BEC5",
                "#B0BEC5",
                "#B0BEC5",
                "#B0BEC5",
                "#B0BEC5",
                "#B0BEC5",
                "#B0BEC5",
                "#B0BEC5",
                "#B0BEC5",
                "#B0BEC5",
                "#B0BEC5",
                "#B0BEC5",
                "#B0BEC5",
                "#B0BEC5",
                "#B0BEC5",
                "#B0BEC5",
                "#B0BEC5",
                "#B0BEC5",
                "#B0BEC5",
                "#B0BEC5",
                "#B0BEC5"
               ]
              ]
             }
            ],
            "label": "Topic 2",
            "method": "update"
           },
           {
            "args": [
             {
              "marker.color": [
               [
                "#B0BEC5",
                "#B0BEC5",
                "#B0BEC5",
                "red",
                "#B0BEC5",
                "#B0BEC5",
                "#B0BEC5",
                "#B0BEC5",
                "#B0BEC5",
                "#B0BEC5",
                "#B0BEC5",
                "#B0BEC5",
                "#B0BEC5",
                "#B0BEC5",
                "#B0BEC5",
                "#B0BEC5",
                "#B0BEC5",
                "#B0BEC5",
                "#B0BEC5",
                "#B0BEC5",
                "#B0BEC5",
                "#B0BEC5",
                "#B0BEC5",
                "#B0BEC5",
                "#B0BEC5",
                "#B0BEC5",
                "#B0BEC5",
                "#B0BEC5",
                "#B0BEC5",
                "#B0BEC5",
                "#B0BEC5"
               ]
              ]
             }
            ],
            "label": "Topic 3",
            "method": "update"
           },
           {
            "args": [
             {
              "marker.color": [
               [
                "#B0BEC5",
                "#B0BEC5",
                "#B0BEC5",
                "#B0BEC5",
                "red",
                "#B0BEC5",
                "#B0BEC5",
                "#B0BEC5",
                "#B0BEC5",
                "#B0BEC5",
                "#B0BEC5",
                "#B0BEC5",
                "#B0BEC5",
                "#B0BEC5",
                "#B0BEC5",
                "#B0BEC5",
                "#B0BEC5",
                "#B0BEC5",
                "#B0BEC5",
                "#B0BEC5",
                "#B0BEC5",
                "#B0BEC5",
                "#B0BEC5",
                "#B0BEC5",
                "#B0BEC5",
                "#B0BEC5",
                "#B0BEC5",
                "#B0BEC5",
                "#B0BEC5",
                "#B0BEC5",
                "#B0BEC5"
               ]
              ]
             }
            ],
            "label": "Topic 4",
            "method": "update"
           },
           {
            "args": [
             {
              "marker.color": [
               [
                "#B0BEC5",
                "#B0BEC5",
                "#B0BEC5",
                "#B0BEC5",
                "#B0BEC5",
                "red",
                "#B0BEC5",
                "#B0BEC5",
                "#B0BEC5",
                "#B0BEC5",
                "#B0BEC5",
                "#B0BEC5",
                "#B0BEC5",
                "#B0BEC5",
                "#B0BEC5",
                "#B0BEC5",
                "#B0BEC5",
                "#B0BEC5",
                "#B0BEC5",
                "#B0BEC5",
                "#B0BEC5",
                "#B0BEC5",
                "#B0BEC5",
                "#B0BEC5",
                "#B0BEC5",
                "#B0BEC5",
                "#B0BEC5",
                "#B0BEC5",
                "#B0BEC5",
                "#B0BEC5",
                "#B0BEC5"
               ]
              ]
             }
            ],
            "label": "Topic 5",
            "method": "update"
           },
           {
            "args": [
             {
              "marker.color": [
               [
                "#B0BEC5",
                "#B0BEC5",
                "#B0BEC5",
                "#B0BEC5",
                "#B0BEC5",
                "#B0BEC5",
                "red",
                "#B0BEC5",
                "#B0BEC5",
                "#B0BEC5",
                "#B0BEC5",
                "#B0BEC5",
                "#B0BEC5",
                "#B0BEC5",
                "#B0BEC5",
                "#B0BEC5",
                "#B0BEC5",
                "#B0BEC5",
                "#B0BEC5",
                "#B0BEC5",
                "#B0BEC5",
                "#B0BEC5",
                "#B0BEC5",
                "#B0BEC5",
                "#B0BEC5",
                "#B0BEC5",
                "#B0BEC5",
                "#B0BEC5",
                "#B0BEC5",
                "#B0BEC5",
                "#B0BEC5"
               ]
              ]
             }
            ],
            "label": "Topic 6",
            "method": "update"
           },
           {
            "args": [
             {
              "marker.color": [
               [
                "#B0BEC5",
                "#B0BEC5",
                "#B0BEC5",
                "#B0BEC5",
                "#B0BEC5",
                "#B0BEC5",
                "#B0BEC5",
                "red",
                "#B0BEC5",
                "#B0BEC5",
                "#B0BEC5",
                "#B0BEC5",
                "#B0BEC5",
                "#B0BEC5",
                "#B0BEC5",
                "#B0BEC5",
                "#B0BEC5",
                "#B0BEC5",
                "#B0BEC5",
                "#B0BEC5",
                "#B0BEC5",
                "#B0BEC5",
                "#B0BEC5",
                "#B0BEC5",
                "#B0BEC5",
                "#B0BEC5",
                "#B0BEC5",
                "#B0BEC5",
                "#B0BEC5",
                "#B0BEC5",
                "#B0BEC5"
               ]
              ]
             }
            ],
            "label": "Topic 7",
            "method": "update"
           },
           {
            "args": [
             {
              "marker.color": [
               [
                "#B0BEC5",
                "#B0BEC5",
                "#B0BEC5",
                "#B0BEC5",
                "#B0BEC5",
                "#B0BEC5",
                "#B0BEC5",
                "#B0BEC5",
                "red",
                "#B0BEC5",
                "#B0BEC5",
                "#B0BEC5",
                "#B0BEC5",
                "#B0BEC5",
                "#B0BEC5",
                "#B0BEC5",
                "#B0BEC5",
                "#B0BEC5",
                "#B0BEC5",
                "#B0BEC5",
                "#B0BEC5",
                "#B0BEC5",
                "#B0BEC5",
                "#B0BEC5",
                "#B0BEC5",
                "#B0BEC5",
                "#B0BEC5",
                "#B0BEC5",
                "#B0BEC5",
                "#B0BEC5",
                "#B0BEC5"
               ]
              ]
             }
            ],
            "label": "Topic 8",
            "method": "update"
           },
           {
            "args": [
             {
              "marker.color": [
               [
                "#B0BEC5",
                "#B0BEC5",
                "#B0BEC5",
                "#B0BEC5",
                "#B0BEC5",
                "#B0BEC5",
                "#B0BEC5",
                "#B0BEC5",
                "#B0BEC5",
                "red",
                "#B0BEC5",
                "#B0BEC5",
                "#B0BEC5",
                "#B0BEC5",
                "#B0BEC5",
                "#B0BEC5",
                "#B0BEC5",
                "#B0BEC5",
                "#B0BEC5",
                "#B0BEC5",
                "#B0BEC5",
                "#B0BEC5",
                "#B0BEC5",
                "#B0BEC5",
                "#B0BEC5",
                "#B0BEC5",
                "#B0BEC5",
                "#B0BEC5",
                "#B0BEC5",
                "#B0BEC5",
                "#B0BEC5"
               ]
              ]
             }
            ],
            "label": "Topic 9",
            "method": "update"
           },
           {
            "args": [
             {
              "marker.color": [
               [
                "#B0BEC5",
                "#B0BEC5",
                "#B0BEC5",
                "#B0BEC5",
                "#B0BEC5",
                "#B0BEC5",
                "#B0BEC5",
                "#B0BEC5",
                "#B0BEC5",
                "#B0BEC5",
                "red",
                "#B0BEC5",
                "#B0BEC5",
                "#B0BEC5",
                "#B0BEC5",
                "#B0BEC5",
                "#B0BEC5",
                "#B0BEC5",
                "#B0BEC5",
                "#B0BEC5",
                "#B0BEC5",
                "#B0BEC5",
                "#B0BEC5",
                "#B0BEC5",
                "#B0BEC5",
                "#B0BEC5",
                "#B0BEC5",
                "#B0BEC5",
                "#B0BEC5",
                "#B0BEC5",
                "#B0BEC5"
               ]
              ]
             }
            ],
            "label": "Topic 10",
            "method": "update"
           },
           {
            "args": [
             {
              "marker.color": [
               [
                "#B0BEC5",
                "#B0BEC5",
                "#B0BEC5",
                "#B0BEC5",
                "#B0BEC5",
                "#B0BEC5",
                "#B0BEC5",
                "#B0BEC5",
                "#B0BEC5",
                "#B0BEC5",
                "#B0BEC5",
                "red",
                "#B0BEC5",
                "#B0BEC5",
                "#B0BEC5",
                "#B0BEC5",
                "#B0BEC5",
                "#B0BEC5",
                "#B0BEC5",
                "#B0BEC5",
                "#B0BEC5",
                "#B0BEC5",
                "#B0BEC5",
                "#B0BEC5",
                "#B0BEC5",
                "#B0BEC5",
                "#B0BEC5",
                "#B0BEC5",
                "#B0BEC5",
                "#B0BEC5",
                "#B0BEC5"
               ]
              ]
             }
            ],
            "label": "Topic 11",
            "method": "update"
           },
           {
            "args": [
             {
              "marker.color": [
               [
                "#B0BEC5",
                "#B0BEC5",
                "#B0BEC5",
                "#B0BEC5",
                "#B0BEC5",
                "#B0BEC5",
                "#B0BEC5",
                "#B0BEC5",
                "#B0BEC5",
                "#B0BEC5",
                "#B0BEC5",
                "#B0BEC5",
                "red",
                "#B0BEC5",
                "#B0BEC5",
                "#B0BEC5",
                "#B0BEC5",
                "#B0BEC5",
                "#B0BEC5",
                "#B0BEC5",
                "#B0BEC5",
                "#B0BEC5",
                "#B0BEC5",
                "#B0BEC5",
                "#B0BEC5",
                "#B0BEC5",
                "#B0BEC5",
                "#B0BEC5",
                "#B0BEC5",
                "#B0BEC5",
                "#B0BEC5"
               ]
              ]
             }
            ],
            "label": "Topic 12",
            "method": "update"
           },
           {
            "args": [
             {
              "marker.color": [
               [
                "#B0BEC5",
                "#B0BEC5",
                "#B0BEC5",
                "#B0BEC5",
                "#B0BEC5",
                "#B0BEC5",
                "#B0BEC5",
                "#B0BEC5",
                "#B0BEC5",
                "#B0BEC5",
                "#B0BEC5",
                "#B0BEC5",
                "#B0BEC5",
                "red",
                "#B0BEC5",
                "#B0BEC5",
                "#B0BEC5",
                "#B0BEC5",
                "#B0BEC5",
                "#B0BEC5",
                "#B0BEC5",
                "#B0BEC5",
                "#B0BEC5",
                "#B0BEC5",
                "#B0BEC5",
                "#B0BEC5",
                "#B0BEC5",
                "#B0BEC5",
                "#B0BEC5",
                "#B0BEC5",
                "#B0BEC5"
               ]
              ]
             }
            ],
            "label": "Topic 13",
            "method": "update"
           },
           {
            "args": [
             {
              "marker.color": [
               [
                "#B0BEC5",
                "#B0BEC5",
                "#B0BEC5",
                "#B0BEC5",
                "#B0BEC5",
                "#B0BEC5",
                "#B0BEC5",
                "#B0BEC5",
                "#B0BEC5",
                "#B0BEC5",
                "#B0BEC5",
                "#B0BEC5",
                "#B0BEC5",
                "#B0BEC5",
                "red",
                "#B0BEC5",
                "#B0BEC5",
                "#B0BEC5",
                "#B0BEC5",
                "#B0BEC5",
                "#B0BEC5",
                "#B0BEC5",
                "#B0BEC5",
                "#B0BEC5",
                "#B0BEC5",
                "#B0BEC5",
                "#B0BEC5",
                "#B0BEC5",
                "#B0BEC5",
                "#B0BEC5",
                "#B0BEC5"
               ]
              ]
             }
            ],
            "label": "Topic 14",
            "method": "update"
           },
           {
            "args": [
             {
              "marker.color": [
               [
                "#B0BEC5",
                "#B0BEC5",
                "#B0BEC5",
                "#B0BEC5",
                "#B0BEC5",
                "#B0BEC5",
                "#B0BEC5",
                "#B0BEC5",
                "#B0BEC5",
                "#B0BEC5",
                "#B0BEC5",
                "#B0BEC5",
                "#B0BEC5",
                "#B0BEC5",
                "#B0BEC5",
                "red",
                "#B0BEC5",
                "#B0BEC5",
                "#B0BEC5",
                "#B0BEC5",
                "#B0BEC5",
                "#B0BEC5",
                "#B0BEC5",
                "#B0BEC5",
                "#B0BEC5",
                "#B0BEC5",
                "#B0BEC5",
                "#B0BEC5",
                "#B0BEC5",
                "#B0BEC5",
                "#B0BEC5"
               ]
              ]
             }
            ],
            "label": "Topic 15",
            "method": "update"
           },
           {
            "args": [
             {
              "marker.color": [
               [
                "#B0BEC5",
                "#B0BEC5",
                "#B0BEC5",
                "#B0BEC5",
                "#B0BEC5",
                "#B0BEC5",
                "#B0BEC5",
                "#B0BEC5",
                "#B0BEC5",
                "#B0BEC5",
                "#B0BEC5",
                "#B0BEC5",
                "#B0BEC5",
                "#B0BEC5",
                "#B0BEC5",
                "#B0BEC5",
                "red",
                "#B0BEC5",
                "#B0BEC5",
                "#B0BEC5",
                "#B0BEC5",
                "#B0BEC5",
                "#B0BEC5",
                "#B0BEC5",
                "#B0BEC5",
                "#B0BEC5",
                "#B0BEC5",
                "#B0BEC5",
                "#B0BEC5",
                "#B0BEC5",
                "#B0BEC5"
               ]
              ]
             }
            ],
            "label": "Topic 16",
            "method": "update"
           },
           {
            "args": [
             {
              "marker.color": [
               [
                "#B0BEC5",
                "#B0BEC5",
                "#B0BEC5",
                "#B0BEC5",
                "#B0BEC5",
                "#B0BEC5",
                "#B0BEC5",
                "#B0BEC5",
                "#B0BEC5",
                "#B0BEC5",
                "#B0BEC5",
                "#B0BEC5",
                "#B0BEC5",
                "#B0BEC5",
                "#B0BEC5",
                "#B0BEC5",
                "#B0BEC5",
                "red",
                "#B0BEC5",
                "#B0BEC5",
                "#B0BEC5",
                "#B0BEC5",
                "#B0BEC5",
                "#B0BEC5",
                "#B0BEC5",
                "#B0BEC5",
                "#B0BEC5",
                "#B0BEC5",
                "#B0BEC5",
                "#B0BEC5",
                "#B0BEC5"
               ]
              ]
             }
            ],
            "label": "Topic 17",
            "method": "update"
           },
           {
            "args": [
             {
              "marker.color": [
               [
                "#B0BEC5",
                "#B0BEC5",
                "#B0BEC5",
                "#B0BEC5",
                "#B0BEC5",
                "#B0BEC5",
                "#B0BEC5",
                "#B0BEC5",
                "#B0BEC5",
                "#B0BEC5",
                "#B0BEC5",
                "#B0BEC5",
                "#B0BEC5",
                "#B0BEC5",
                "#B0BEC5",
                "#B0BEC5",
                "#B0BEC5",
                "#B0BEC5",
                "red",
                "#B0BEC5",
                "#B0BEC5",
                "#B0BEC5",
                "#B0BEC5",
                "#B0BEC5",
                "#B0BEC5",
                "#B0BEC5",
                "#B0BEC5",
                "#B0BEC5",
                "#B0BEC5",
                "#B0BEC5",
                "#B0BEC5"
               ]
              ]
             }
            ],
            "label": "Topic 18",
            "method": "update"
           },
           {
            "args": [
             {
              "marker.color": [
               [
                "#B0BEC5",
                "#B0BEC5",
                "#B0BEC5",
                "#B0BEC5",
                "#B0BEC5",
                "#B0BEC5",
                "#B0BEC5",
                "#B0BEC5",
                "#B0BEC5",
                "#B0BEC5",
                "#B0BEC5",
                "#B0BEC5",
                "#B0BEC5",
                "#B0BEC5",
                "#B0BEC5",
                "#B0BEC5",
                "#B0BEC5",
                "#B0BEC5",
                "#B0BEC5",
                "red",
                "#B0BEC5",
                "#B0BEC5",
                "#B0BEC5",
                "#B0BEC5",
                "#B0BEC5",
                "#B0BEC5",
                "#B0BEC5",
                "#B0BEC5",
                "#B0BEC5",
                "#B0BEC5",
                "#B0BEC5"
               ]
              ]
             }
            ],
            "label": "Topic 19",
            "method": "update"
           },
           {
            "args": [
             {
              "marker.color": [
               [
                "#B0BEC5",
                "#B0BEC5",
                "#B0BEC5",
                "#B0BEC5",
                "#B0BEC5",
                "#B0BEC5",
                "#B0BEC5",
                "#B0BEC5",
                "#B0BEC5",
                "#B0BEC5",
                "#B0BEC5",
                "#B0BEC5",
                "#B0BEC5",
                "#B0BEC5",
                "#B0BEC5",
                "#B0BEC5",
                "#B0BEC5",
                "#B0BEC5",
                "#B0BEC5",
                "#B0BEC5",
                "red",
                "#B0BEC5",
                "#B0BEC5",
                "#B0BEC5",
                "#B0BEC5",
                "#B0BEC5",
                "#B0BEC5",
                "#B0BEC5",
                "#B0BEC5",
                "#B0BEC5",
                "#B0BEC5"
               ]
              ]
             }
            ],
            "label": "Topic 20",
            "method": "update"
           },
           {
            "args": [
             {
              "marker.color": [
               [
                "#B0BEC5",
                "#B0BEC5",
                "#B0BEC5",
                "#B0BEC5",
                "#B0BEC5",
                "#B0BEC5",
                "#B0BEC5",
                "#B0BEC5",
                "#B0BEC5",
                "#B0BEC5",
                "#B0BEC5",
                "#B0BEC5",
                "#B0BEC5",
                "#B0BEC5",
                "#B0BEC5",
                "#B0BEC5",
                "#B0BEC5",
                "#B0BEC5",
                "#B0BEC5",
                "#B0BEC5",
                "#B0BEC5",
                "red",
                "#B0BEC5",
                "#B0BEC5",
                "#B0BEC5",
                "#B0BEC5",
                "#B0BEC5",
                "#B0BEC5",
                "#B0BEC5",
                "#B0BEC5",
                "#B0BEC5"
               ]
              ]
             }
            ],
            "label": "Topic 21",
            "method": "update"
           },
           {
            "args": [
             {
              "marker.color": [
               [
                "#B0BEC5",
                "#B0BEC5",
                "#B0BEC5",
                "#B0BEC5",
                "#B0BEC5",
                "#B0BEC5",
                "#B0BEC5",
                "#B0BEC5",
                "#B0BEC5",
                "#B0BEC5",
                "#B0BEC5",
                "#B0BEC5",
                "#B0BEC5",
                "#B0BEC5",
                "#B0BEC5",
                "#B0BEC5",
                "#B0BEC5",
                "#B0BEC5",
                "#B0BEC5",
                "#B0BEC5",
                "#B0BEC5",
                "#B0BEC5",
                "red",
                "#B0BEC5",
                "#B0BEC5",
                "#B0BEC5",
                "#B0BEC5",
                "#B0BEC5",
                "#B0BEC5",
                "#B0BEC5",
                "#B0BEC5"
               ]
              ]
             }
            ],
            "label": "Topic 22",
            "method": "update"
           },
           {
            "args": [
             {
              "marker.color": [
               [
                "#B0BEC5",
                "#B0BEC5",
                "#B0BEC5",
                "#B0BEC5",
                "#B0BEC5",
                "#B0BEC5",
                "#B0BEC5",
                "#B0BEC5",
                "#B0BEC5",
                "#B0BEC5",
                "#B0BEC5",
                "#B0BEC5",
                "#B0BEC5",
                "#B0BEC5",
                "#B0BEC5",
                "#B0BEC5",
                "#B0BEC5",
                "#B0BEC5",
                "#B0BEC5",
                "#B0BEC5",
                "#B0BEC5",
                "#B0BEC5",
                "#B0BEC5",
                "red",
                "#B0BEC5",
                "#B0BEC5",
                "#B0BEC5",
                "#B0BEC5",
                "#B0BEC5",
                "#B0BEC5",
                "#B0BEC5"
               ]
              ]
             }
            ],
            "label": "Topic 23",
            "method": "update"
           },
           {
            "args": [
             {
              "marker.color": [
               [
                "#B0BEC5",
                "#B0BEC5",
                "#B0BEC5",
                "#B0BEC5",
                "#B0BEC5",
                "#B0BEC5",
                "#B0BEC5",
                "#B0BEC5",
                "#B0BEC5",
                "#B0BEC5",
                "#B0BEC5",
                "#B0BEC5",
                "#B0BEC5",
                "#B0BEC5",
                "#B0BEC5",
                "#B0BEC5",
                "#B0BEC5",
                "#B0BEC5",
                "#B0BEC5",
                "#B0BEC5",
                "#B0BEC5",
                "#B0BEC5",
                "#B0BEC5",
                "#B0BEC5",
                "red",
                "#B0BEC5",
                "#B0BEC5",
                "#B0BEC5",
                "#B0BEC5",
                "#B0BEC5",
                "#B0BEC5"
               ]
              ]
             }
            ],
            "label": "Topic 24",
            "method": "update"
           },
           {
            "args": [
             {
              "marker.color": [
               [
                "#B0BEC5",
                "#B0BEC5",
                "#B0BEC5",
                "#B0BEC5",
                "#B0BEC5",
                "#B0BEC5",
                "#B0BEC5",
                "#B0BEC5",
                "#B0BEC5",
                "#B0BEC5",
                "#B0BEC5",
                "#B0BEC5",
                "#B0BEC5",
                "#B0BEC5",
                "#B0BEC5",
                "#B0BEC5",
                "#B0BEC5",
                "#B0BEC5",
                "#B0BEC5",
                "#B0BEC5",
                "#B0BEC5",
                "#B0BEC5",
                "#B0BEC5",
                "#B0BEC5",
                "#B0BEC5",
                "red",
                "#B0BEC5",
                "#B0BEC5",
                "#B0BEC5",
                "#B0BEC5",
                "#B0BEC5"
               ]
              ]
             }
            ],
            "label": "Topic 25",
            "method": "update"
           },
           {
            "args": [
             {
              "marker.color": [
               [
                "#B0BEC5",
                "#B0BEC5",
                "#B0BEC5",
                "#B0BEC5",
                "#B0BEC5",
                "#B0BEC5",
                "#B0BEC5",
                "#B0BEC5",
                "#B0BEC5",
                "#B0BEC5",
                "#B0BEC5",
                "#B0BEC5",
                "#B0BEC5",
                "#B0BEC5",
                "#B0BEC5",
                "#B0BEC5",
                "#B0BEC5",
                "#B0BEC5",
                "#B0BEC5",
                "#B0BEC5",
                "#B0BEC5",
                "#B0BEC5",
                "#B0BEC5",
                "#B0BEC5",
                "#B0BEC5",
                "#B0BEC5",
                "red",
                "#B0BEC5",
                "#B0BEC5",
                "#B0BEC5",
                "#B0BEC5"
               ]
              ]
             }
            ],
            "label": "Topic 26",
            "method": "update"
           },
           {
            "args": [
             {
              "marker.color": [
               [
                "#B0BEC5",
                "#B0BEC5",
                "#B0BEC5",
                "#B0BEC5",
                "#B0BEC5",
                "#B0BEC5",
                "#B0BEC5",
                "#B0BEC5",
                "#B0BEC5",
                "#B0BEC5",
                "#B0BEC5",
                "#B0BEC5",
                "#B0BEC5",
                "#B0BEC5",
                "#B0BEC5",
                "#B0BEC5",
                "#B0BEC5",
                "#B0BEC5",
                "#B0BEC5",
                "#B0BEC5",
                "#B0BEC5",
                "#B0BEC5",
                "#B0BEC5",
                "#B0BEC5",
                "#B0BEC5",
                "#B0BEC5",
                "#B0BEC5",
                "red",
                "#B0BEC5",
                "#B0BEC5",
                "#B0BEC5"
               ]
              ]
             }
            ],
            "label": "Topic 27",
            "method": "update"
           },
           {
            "args": [
             {
              "marker.color": [
               [
                "#B0BEC5",
                "#B0BEC5",
                "#B0BEC5",
                "#B0BEC5",
                "#B0BEC5",
                "#B0BEC5",
                "#B0BEC5",
                "#B0BEC5",
                "#B0BEC5",
                "#B0BEC5",
                "#B0BEC5",
                "#B0BEC5",
                "#B0BEC5",
                "#B0BEC5",
                "#B0BEC5",
                "#B0BEC5",
                "#B0BEC5",
                "#B0BEC5",
                "#B0BEC5",
                "#B0BEC5",
                "#B0BEC5",
                "#B0BEC5",
                "#B0BEC5",
                "#B0BEC5",
                "#B0BEC5",
                "#B0BEC5",
                "#B0BEC5",
                "#B0BEC5",
                "red",
                "#B0BEC5",
                "#B0BEC5"
               ]
              ]
             }
            ],
            "label": "Topic 28",
            "method": "update"
           },
           {
            "args": [
             {
              "marker.color": [
               [
                "#B0BEC5",
                "#B0BEC5",
                "#B0BEC5",
                "#B0BEC5",
                "#B0BEC5",
                "#B0BEC5",
                "#B0BEC5",
                "#B0BEC5",
                "#B0BEC5",
                "#B0BEC5",
                "#B0BEC5",
                "#B0BEC5",
                "#B0BEC5",
                "#B0BEC5",
                "#B0BEC5",
                "#B0BEC5",
                "#B0BEC5",
                "#B0BEC5",
                "#B0BEC5",
                "#B0BEC5",
                "#B0BEC5",
                "#B0BEC5",
                "#B0BEC5",
                "#B0BEC5",
                "#B0BEC5",
                "#B0BEC5",
                "#B0BEC5",
                "#B0BEC5",
                "#B0BEC5",
                "red",
                "#B0BEC5"
               ]
              ]
             }
            ],
            "label": "Topic 29",
            "method": "update"
           },
           {
            "args": [
             {
              "marker.color": [
               [
                "#B0BEC5",
                "#B0BEC5",
                "#B0BEC5",
                "#B0BEC5",
                "#B0BEC5",
                "#B0BEC5",
                "#B0BEC5",
                "#B0BEC5",
                "#B0BEC5",
                "#B0BEC5",
                "#B0BEC5",
                "#B0BEC5",
                "#B0BEC5",
                "#B0BEC5",
                "#B0BEC5",
                "#B0BEC5",
                "#B0BEC5",
                "#B0BEC5",
                "#B0BEC5",
                "#B0BEC5",
                "#B0BEC5",
                "#B0BEC5",
                "#B0BEC5",
                "#B0BEC5",
                "#B0BEC5",
                "#B0BEC5",
                "#B0BEC5",
                "#B0BEC5",
                "#B0BEC5",
                "#B0BEC5",
                "red"
               ]
              ]
             }
            ],
            "label": "Topic 30",
            "method": "update"
           }
          ]
         }
        ],
        "template": {
         "data": {
          "bar": [
           {
            "error_x": {
             "color": "rgb(36,36,36)"
            },
            "error_y": {
             "color": "rgb(36,36,36)"
            },
            "marker": {
             "line": {
              "color": "white",
              "width": 0.5
             },
             "pattern": {
              "fillmode": "overlay",
              "size": 10,
              "solidity": 0.2
             }
            },
            "type": "bar"
           }
          ],
          "barpolar": [
           {
            "marker": {
             "line": {
              "color": "white",
              "width": 0.5
             },
             "pattern": {
              "fillmode": "overlay",
              "size": 10,
              "solidity": 0.2
             }
            },
            "type": "barpolar"
           }
          ],
          "carpet": [
           {
            "aaxis": {
             "endlinecolor": "rgb(36,36,36)",
             "gridcolor": "white",
             "linecolor": "white",
             "minorgridcolor": "white",
             "startlinecolor": "rgb(36,36,36)"
            },
            "baxis": {
             "endlinecolor": "rgb(36,36,36)",
             "gridcolor": "white",
             "linecolor": "white",
             "minorgridcolor": "white",
             "startlinecolor": "rgb(36,36,36)"
            },
            "type": "carpet"
           }
          ],
          "choropleth": [
           {
            "colorbar": {
             "outlinewidth": 1,
             "tickcolor": "rgb(36,36,36)",
             "ticks": "outside"
            },
            "type": "choropleth"
           }
          ],
          "contour": [
           {
            "colorbar": {
             "outlinewidth": 1,
             "tickcolor": "rgb(36,36,36)",
             "ticks": "outside"
            },
            "colorscale": [
             [
              0,
              "#440154"
             ],
             [
              0.1111111111111111,
              "#482878"
             ],
             [
              0.2222222222222222,
              "#3e4989"
             ],
             [
              0.3333333333333333,
              "#31688e"
             ],
             [
              0.4444444444444444,
              "#26828e"
             ],
             [
              0.5555555555555556,
              "#1f9e89"
             ],
             [
              0.6666666666666666,
              "#35b779"
             ],
             [
              0.7777777777777778,
              "#6ece58"
             ],
             [
              0.8888888888888888,
              "#b5de2b"
             ],
             [
              1,
              "#fde725"
             ]
            ],
            "type": "contour"
           }
          ],
          "contourcarpet": [
           {
            "colorbar": {
             "outlinewidth": 1,
             "tickcolor": "rgb(36,36,36)",
             "ticks": "outside"
            },
            "type": "contourcarpet"
           }
          ],
          "heatmap": [
           {
            "colorbar": {
             "outlinewidth": 1,
             "tickcolor": "rgb(36,36,36)",
             "ticks": "outside"
            },
            "colorscale": [
             [
              0,
              "#440154"
             ],
             [
              0.1111111111111111,
              "#482878"
             ],
             [
              0.2222222222222222,
              "#3e4989"
             ],
             [
              0.3333333333333333,
              "#31688e"
             ],
             [
              0.4444444444444444,
              "#26828e"
             ],
             [
              0.5555555555555556,
              "#1f9e89"
             ],
             [
              0.6666666666666666,
              "#35b779"
             ],
             [
              0.7777777777777778,
              "#6ece58"
             ],
             [
              0.8888888888888888,
              "#b5de2b"
             ],
             [
              1,
              "#fde725"
             ]
            ],
            "type": "heatmap"
           }
          ],
          "histogram": [
           {
            "marker": {
             "line": {
              "color": "white",
              "width": 0.6
             }
            },
            "type": "histogram"
           }
          ],
          "histogram2d": [
           {
            "colorbar": {
             "outlinewidth": 1,
             "tickcolor": "rgb(36,36,36)",
             "ticks": "outside"
            },
            "colorscale": [
             [
              0,
              "#440154"
             ],
             [
              0.1111111111111111,
              "#482878"
             ],
             [
              0.2222222222222222,
              "#3e4989"
             ],
             [
              0.3333333333333333,
              "#31688e"
             ],
             [
              0.4444444444444444,
              "#26828e"
             ],
             [
              0.5555555555555556,
              "#1f9e89"
             ],
             [
              0.6666666666666666,
              "#35b779"
             ],
             [
              0.7777777777777778,
              "#6ece58"
             ],
             [
              0.8888888888888888,
              "#b5de2b"
             ],
             [
              1,
              "#fde725"
             ]
            ],
            "type": "histogram2d"
           }
          ],
          "histogram2dcontour": [
           {
            "colorbar": {
             "outlinewidth": 1,
             "tickcolor": "rgb(36,36,36)",
             "ticks": "outside"
            },
            "colorscale": [
             [
              0,
              "#440154"
             ],
             [
              0.1111111111111111,
              "#482878"
             ],
             [
              0.2222222222222222,
              "#3e4989"
             ],
             [
              0.3333333333333333,
              "#31688e"
             ],
             [
              0.4444444444444444,
              "#26828e"
             ],
             [
              0.5555555555555556,
              "#1f9e89"
             ],
             [
              0.6666666666666666,
              "#35b779"
             ],
             [
              0.7777777777777778,
              "#6ece58"
             ],
             [
              0.8888888888888888,
              "#b5de2b"
             ],
             [
              1,
              "#fde725"
             ]
            ],
            "type": "histogram2dcontour"
           }
          ],
          "mesh3d": [
           {
            "colorbar": {
             "outlinewidth": 1,
             "tickcolor": "rgb(36,36,36)",
             "ticks": "outside"
            },
            "type": "mesh3d"
           }
          ],
          "parcoords": [
           {
            "line": {
             "colorbar": {
              "outlinewidth": 1,
              "tickcolor": "rgb(36,36,36)",
              "ticks": "outside"
             }
            },
            "type": "parcoords"
           }
          ],
          "pie": [
           {
            "automargin": true,
            "type": "pie"
           }
          ],
          "scatter": [
           {
            "fillpattern": {
             "fillmode": "overlay",
             "size": 10,
             "solidity": 0.2
            },
            "type": "scatter"
           }
          ],
          "scatter3d": [
           {
            "line": {
             "colorbar": {
              "outlinewidth": 1,
              "tickcolor": "rgb(36,36,36)",
              "ticks": "outside"
             }
            },
            "marker": {
             "colorbar": {
              "outlinewidth": 1,
              "tickcolor": "rgb(36,36,36)",
              "ticks": "outside"
             }
            },
            "type": "scatter3d"
           }
          ],
          "scattercarpet": [
           {
            "marker": {
             "colorbar": {
              "outlinewidth": 1,
              "tickcolor": "rgb(36,36,36)",
              "ticks": "outside"
             }
            },
            "type": "scattercarpet"
           }
          ],
          "scattergeo": [
           {
            "marker": {
             "colorbar": {
              "outlinewidth": 1,
              "tickcolor": "rgb(36,36,36)",
              "ticks": "outside"
             }
            },
            "type": "scattergeo"
           }
          ],
          "scattergl": [
           {
            "marker": {
             "colorbar": {
              "outlinewidth": 1,
              "tickcolor": "rgb(36,36,36)",
              "ticks": "outside"
             }
            },
            "type": "scattergl"
           }
          ],
          "scattermap": [
           {
            "marker": {
             "colorbar": {
              "outlinewidth": 1,
              "tickcolor": "rgb(36,36,36)",
              "ticks": "outside"
             }
            },
            "type": "scattermap"
           }
          ],
          "scattermapbox": [
           {
            "marker": {
             "colorbar": {
              "outlinewidth": 1,
              "tickcolor": "rgb(36,36,36)",
              "ticks": "outside"
             }
            },
            "type": "scattermapbox"
           }
          ],
          "scatterpolar": [
           {
            "marker": {
             "colorbar": {
              "outlinewidth": 1,
              "tickcolor": "rgb(36,36,36)",
              "ticks": "outside"
             }
            },
            "type": "scatterpolar"
           }
          ],
          "scatterpolargl": [
           {
            "marker": {
             "colorbar": {
              "outlinewidth": 1,
              "tickcolor": "rgb(36,36,36)",
              "ticks": "outside"
             }
            },
            "type": "scatterpolargl"
           }
          ],
          "scatterternary": [
           {
            "marker": {
             "colorbar": {
              "outlinewidth": 1,
              "tickcolor": "rgb(36,36,36)",
              "ticks": "outside"
             }
            },
            "type": "scatterternary"
           }
          ],
          "surface": [
           {
            "colorbar": {
             "outlinewidth": 1,
             "tickcolor": "rgb(36,36,36)",
             "ticks": "outside"
            },
            "colorscale": [
             [
              0,
              "#440154"
             ],
             [
              0.1111111111111111,
              "#482878"
             ],
             [
              0.2222222222222222,
              "#3e4989"
             ],
             [
              0.3333333333333333,
              "#31688e"
             ],
             [
              0.4444444444444444,
              "#26828e"
             ],
             [
              0.5555555555555556,
              "#1f9e89"
             ],
             [
              0.6666666666666666,
              "#35b779"
             ],
             [
              0.7777777777777778,
              "#6ece58"
             ],
             [
              0.8888888888888888,
              "#b5de2b"
             ],
             [
              1,
              "#fde725"
             ]
            ],
            "type": "surface"
           }
          ],
          "table": [
           {
            "cells": {
             "fill": {
              "color": "rgb(237,237,237)"
             },
             "line": {
              "color": "white"
             }
            },
            "header": {
             "fill": {
              "color": "rgb(217,217,217)"
             },
             "line": {
              "color": "white"
             }
            },
            "type": "table"
           }
          ]
         },
         "layout": {
          "annotationdefaults": {
           "arrowhead": 0,
           "arrowwidth": 1
          },
          "autotypenumbers": "strict",
          "coloraxis": {
           "colorbar": {
            "outlinewidth": 1,
            "tickcolor": "rgb(36,36,36)",
            "ticks": "outside"
           }
          },
          "colorscale": {
           "diverging": [
            [
             0,
             "rgb(103,0,31)"
            ],
            [
             0.1,
             "rgb(178,24,43)"
            ],
            [
             0.2,
             "rgb(214,96,77)"
            ],
            [
             0.3,
             "rgb(244,165,130)"
            ],
            [
             0.4,
             "rgb(253,219,199)"
            ],
            [
             0.5,
             "rgb(247,247,247)"
            ],
            [
             0.6,
             "rgb(209,229,240)"
            ],
            [
             0.7,
             "rgb(146,197,222)"
            ],
            [
             0.8,
             "rgb(67,147,195)"
            ],
            [
             0.9,
             "rgb(33,102,172)"
            ],
            [
             1,
             "rgb(5,48,97)"
            ]
           ],
           "sequential": [
            [
             0,
             "#440154"
            ],
            [
             0.1111111111111111,
             "#482878"
            ],
            [
             0.2222222222222222,
             "#3e4989"
            ],
            [
             0.3333333333333333,
             "#31688e"
            ],
            [
             0.4444444444444444,
             "#26828e"
            ],
            [
             0.5555555555555556,
             "#1f9e89"
            ],
            [
             0.6666666666666666,
             "#35b779"
            ],
            [
             0.7777777777777778,
             "#6ece58"
            ],
            [
             0.8888888888888888,
             "#b5de2b"
            ],
            [
             1,
             "#fde725"
            ]
           ],
           "sequentialminus": [
            [
             0,
             "#440154"
            ],
            [
             0.1111111111111111,
             "#482878"
            ],
            [
             0.2222222222222222,
             "#3e4989"
            ],
            [
             0.3333333333333333,
             "#31688e"
            ],
            [
             0.4444444444444444,
             "#26828e"
            ],
            [
             0.5555555555555556,
             "#1f9e89"
            ],
            [
             0.6666666666666666,
             "#35b779"
            ],
            [
             0.7777777777777778,
             "#6ece58"
            ],
            [
             0.8888888888888888,
             "#b5de2b"
            ],
            [
             1,
             "#fde725"
            ]
           ]
          },
          "colorway": [
           "#1F77B4",
           "#FF7F0E",
           "#2CA02C",
           "#D62728",
           "#9467BD",
           "#8C564B",
           "#E377C2",
           "#7F7F7F",
           "#BCBD22",
           "#17BECF"
          ],
          "font": {
           "color": "rgb(36,36,36)"
          },
          "geo": {
           "bgcolor": "white",
           "lakecolor": "white",
           "landcolor": "white",
           "showlakes": true,
           "showland": true,
           "subunitcolor": "white"
          },
          "hoverlabel": {
           "align": "left"
          },
          "hovermode": "closest",
          "mapbox": {
           "style": "light"
          },
          "paper_bgcolor": "white",
          "plot_bgcolor": "white",
          "polar": {
           "angularaxis": {
            "gridcolor": "rgb(232,232,232)",
            "linecolor": "rgb(36,36,36)",
            "showgrid": false,
            "showline": true,
            "ticks": "outside"
           },
           "bgcolor": "white",
           "radialaxis": {
            "gridcolor": "rgb(232,232,232)",
            "linecolor": "rgb(36,36,36)",
            "showgrid": false,
            "showline": true,
            "ticks": "outside"
           }
          },
          "scene": {
           "xaxis": {
            "backgroundcolor": "white",
            "gridcolor": "rgb(232,232,232)",
            "gridwidth": 2,
            "linecolor": "rgb(36,36,36)",
            "showbackground": true,
            "showgrid": false,
            "showline": true,
            "ticks": "outside",
            "zeroline": false,
            "zerolinecolor": "rgb(36,36,36)"
           },
           "yaxis": {
            "backgroundcolor": "white",
            "gridcolor": "rgb(232,232,232)",
            "gridwidth": 2,
            "linecolor": "rgb(36,36,36)",
            "showbackground": true,
            "showgrid": false,
            "showline": true,
            "ticks": "outside",
            "zeroline": false,
            "zerolinecolor": "rgb(36,36,36)"
           },
           "zaxis": {
            "backgroundcolor": "white",
            "gridcolor": "rgb(232,232,232)",
            "gridwidth": 2,
            "linecolor": "rgb(36,36,36)",
            "showbackground": true,
            "showgrid": false,
            "showline": true,
            "ticks": "outside",
            "zeroline": false,
            "zerolinecolor": "rgb(36,36,36)"
           }
          },
          "shapedefaults": {
           "fillcolor": "black",
           "line": {
            "width": 0
           },
           "opacity": 0.3
          },
          "ternary": {
           "aaxis": {
            "gridcolor": "rgb(232,232,232)",
            "linecolor": "rgb(36,36,36)",
            "showgrid": false,
            "showline": true,
            "ticks": "outside"
           },
           "baxis": {
            "gridcolor": "rgb(232,232,232)",
            "linecolor": "rgb(36,36,36)",
            "showgrid": false,
            "showline": true,
            "ticks": "outside"
           },
           "bgcolor": "white",
           "caxis": {
            "gridcolor": "rgb(232,232,232)",
            "linecolor": "rgb(36,36,36)",
            "showgrid": false,
            "showline": true,
            "ticks": "outside"
           }
          },
          "title": {
           "x": 0.05
          },
          "xaxis": {
           "automargin": true,
           "gridcolor": "rgb(232,232,232)",
           "linecolor": "rgb(36,36,36)",
           "showgrid": false,
           "showline": true,
           "ticks": "outside",
           "title": {
            "standoff": 15
           },
           "zeroline": false,
           "zerolinecolor": "rgb(36,36,36)"
          },
          "yaxis": {
           "automargin": true,
           "gridcolor": "rgb(232,232,232)",
           "linecolor": "rgb(36,36,36)",
           "showgrid": false,
           "showline": true,
           "ticks": "outside",
           "title": {
            "standoff": 15
           },
           "zeroline": false,
           "zerolinecolor": "rgb(36,36,36)"
          }
         }
        },
        "title": {
         "font": {
          "color": "Black",
          "size": 22
         },
         "text": "<b>Intertopic Distance Map</b>",
         "x": 0.5,
         "xanchor": "center",
         "y": 0.95,
         "yanchor": "top"
        },
        "width": 650,
        "xaxis": {
         "anchor": "y",
         "domain": [
          0,
          1
         ],
         "range": [
          -6.060801577568054,
          17.985441064834596
         ],
         "title": {
          "text": ""
         },
         "visible": false
        },
        "yaxis": {
         "anchor": "x",
         "domain": [
          0,
          1
         ],
         "range": [
          -4.958815670013427,
          22.575205326080322
         ],
         "title": {
          "text": ""
         },
         "visible": false
        }
       }
      }
     },
     "metadata": {},
     "output_type": "display_data"
    }
   ],
   "source": [
    "dark_model.visualize_topics()"
   ]
  },
  {
   "cell_type": "code",
   "execution_count": 126,
   "id": "7a308990",
   "metadata": {},
   "outputs": [],
   "source": [
    "from sklearn.metrics.pairwise import cosine_similarity\n",
    "sim_matrix = cosine_similarity(dark_model.topic_embeddings_, reddit_model.topic_embeddings_)"
   ]
  },
  {
   "cell_type": "code",
   "execution_count": 127,
   "id": "a8ff7f9b",
   "metadata": {},
   "outputs": [
    {
     "data": {
      "text/plain": [
       "array([[0.44402753, 0.63715597, 0.64710454, 0.51495025, 0.33687722,\n",
       "        0.23316122, 0.42423834, 0.52081382, 0.31858872, 0.21070645,\n",
       "        0.32971117],\n",
       "       [0.33627644, 0.60072495, 0.69197445, 0.50066786, 0.31734236,\n",
       "        0.22302226, 0.40720538, 0.51391298, 0.3210179 , 0.26350798,\n",
       "        0.35702205],\n",
       "       [0.51900454, 0.60084488, 0.59349397, 0.3841421 , 0.45311535,\n",
       "        0.14360876, 0.38999826, 0.2209788 , 0.32674145, 0.11691048,\n",
       "        0.28519474],\n",
       "       [0.41360449, 0.61775673, 0.63095094, 0.44870163, 0.26446883,\n",
       "        0.22120608, 0.37710886, 0.34989477, 0.36755392, 0.25305744,\n",
       "        0.29437423],\n",
       "       [0.54951212, 0.66228017, 0.41739049, 0.30447264, 0.34098715,\n",
       "        0.13370723, 0.31238388, 0.11652744, 0.35241738, 0.17606053,\n",
       "        0.32240827],\n",
       "       [0.45641634, 0.54568825, 0.5759834 , 0.24938819, 0.38166351,\n",
       "        0.09823409, 0.36326627, 0.17525912, 0.35670299, 0.134023  ,\n",
       "        0.29025876],\n",
       "       [0.33567613, 0.41758506, 0.41764086, 0.37137592, 0.20125583,\n",
       "        0.11433276, 0.26229678, 0.41667437, 0.13117871, 0.13772211,\n",
       "        0.16839906],\n",
       "       [0.44986052, 0.6248657 , 0.51658132, 0.31942076, 0.29402867,\n",
       "        0.32585957, 0.54705747, 0.33384594, 0.43749515, 0.52572322,\n",
       "        0.46229232],\n",
       "       [0.15174075, 0.42069104, 0.27388974, 0.21470585, 0.1617417 ,\n",
       "        0.31281757, 0.23981524, 0.20860172, 0.15372336, 0.27146069,\n",
       "        0.23373538],\n",
       "       [0.2546076 , 0.4750919 , 0.33138212, 0.36200967, 0.12251373,\n",
       "        0.28202624, 0.25508781, 0.24702708, 0.10249359, 0.25723855,\n",
       "        0.20098647],\n",
       "       [0.31321517, 0.41271667, 0.33427661, 0.30636935, 0.26661103,\n",
       "        0.18287837, 0.23464507, 0.19695208, 0.17297167, 0.13469396,\n",
       "        0.22117497],\n",
       "       [0.34218664, 0.57042978, 0.56820373, 0.33801352, 0.43103679,\n",
       "        0.27472563, 0.34423191, 0.21443979, 0.33689236, 0.18962294,\n",
       "        0.32740733],\n",
       "       [0.3774434 , 0.53346404, 0.59535006, 0.37630446, 0.35364606,\n",
       "        0.23182192, 0.37765175, 0.2492914 , 0.32838316, 0.19193361,\n",
       "        0.23602487],\n",
       "       [0.20321305, 0.4573493 , 0.27650282, 0.32116485, 0.20079201,\n",
       "        0.17438012, 0.29584025, 0.35942149, 0.17793419, 0.24394495,\n",
       "        0.29712756],\n",
       "       [0.20064727, 0.46366257, 0.36462603, 0.37679047, 0.20883026,\n",
       "        0.2071979 , 0.26446736, 0.18285777, 0.18038513, 0.15287821,\n",
       "        0.19852464],\n",
       "       [0.15124009, 0.39708989, 0.48043983, 0.33161033, 0.1872285 ,\n",
       "        0.14890885, 0.2644196 , 0.26989214, 0.30154648, 0.22105096,\n",
       "        0.27335408],\n",
       "       [0.40533949, 0.3427794 , 0.42936264, 0.22685048, 0.15073376,\n",
       "        0.06510964, 0.34494816, 0.2457201 , 0.2821825 , 0.1659671 ,\n",
       "        0.22376923],\n",
       "       [0.17751035, 0.28193267, 0.36482579, 0.20878402, 0.16094004,\n",
       "        0.07413936, 0.12706183, 0.16772289, 0.08960536, 0.04561417,\n",
       "        0.1061712 ],\n",
       "       [0.20617684, 0.25325933, 0.26418184, 0.28762536, 0.03717446,\n",
       "        0.04053287, 0.2234728 , 0.30055071, 0.22483118, 0.25212818,\n",
       "        0.25502128],\n",
       "       [0.31465902, 0.45829969, 0.36365815, 0.21915472, 0.28423251,\n",
       "        0.26876391, 0.35980419, 0.19318745, 0.36346913, 0.67751165,\n",
       "        0.38826447],\n",
       "       [0.20888403, 0.4102684 , 0.43157823, 0.33704721, 0.1893956 ,\n",
       "        0.14320477, 0.32945902, 0.32887948, 0.25115077, 0.21260934,\n",
       "        0.18892748],\n",
       "       [0.33119138, 0.56092936, 0.56675373, 0.50419529, 0.28688684,\n",
       "        0.20901039, 0.4167617 , 0.40184371, 0.35053427, 0.37805785,\n",
       "        0.34392091],\n",
       "       [0.31130993, 0.40747631, 0.42039566, 0.29697135, 0.18700823,\n",
       "        0.24278886, 0.39762963, 0.28666339, 0.2606675 , 0.29560507,\n",
       "        0.30351558],\n",
       "       [0.28580034, 0.52969436, 0.57392036, 0.40902637, 0.30999334,\n",
       "        0.18761805, 0.32326944, 0.31140685, 0.20254107, 0.2180926 ,\n",
       "        0.27615211],\n",
       "       [0.24971435, 0.35260993, 0.3557978 , 0.18266578, 0.11335262,\n",
       "        0.10728771, 0.33536158, 0.19708891, 0.19821089, 0.14268501,\n",
       "        0.18235231],\n",
       "       [0.41626109, 0.64100979, 0.46072402, 0.25755464, 0.37575116,\n",
       "        0.16634669, 0.36963389, 0.09283163, 0.35535839, 0.26009957,\n",
       "        0.40253806],\n",
       "       [0.14977741, 0.29199391, 0.17339551, 0.30303823, 0.09022707,\n",
       "        0.11173044, 0.1158507 , 0.13718806, 0.00411593, 0.09305508,\n",
       "        0.05106897],\n",
       "       [0.14439441, 0.28657442, 0.45830286, 0.18068007, 0.05952752,\n",
       "        0.14665685, 0.16991488, 0.27345825, 0.18139811, 0.23954765,\n",
       "        0.11915235],\n",
       "       [0.26001909, 0.25607341, 0.27711691, 0.16715635, 0.21310597,\n",
       "        0.18594258, 0.19058744, 0.07072367, 0.11474825, 0.04379076,\n",
       "        0.06489295],\n",
       "       [0.30532143, 0.40220222, 0.33016375, 0.35050671, 0.14807608,\n",
       "        0.30742873, 0.37722003, 0.36272728, 0.29018196, 0.42204456,\n",
       "        0.32501947],\n",
       "       [0.1122376 , 0.23365698, 0.16990079, 0.33254008, 0.19588046,\n",
       "        0.09092379, 0.12809589, 0.21775244, 0.02143136, 0.12180152,\n",
       "        0.21886212],\n",
       "       [0.28242121, 0.45452583, 0.49076382, 0.31993128, 0.33304054,\n",
       "        0.11889382, 0.29928584, 0.30068921, 0.21309668, 0.15033557,\n",
       "        0.22956982]])"
      ]
     },
     "execution_count": 127,
     "metadata": {},
     "output_type": "execute_result"
    }
   ],
   "source": [
    "sim_matrix"
   ]
  },
  {
   "cell_type": "code",
   "execution_count": 162,
   "id": "f0ef9c5e",
   "metadata": {},
   "outputs": [],
   "source": [
    "topic = 3\n",
    "most_similar_topic = np.argmax(sim_matrix[topic + 1])-1\n",
    "most_similar_topic_score = np.max(sim_matrix[topic + 1])"
   ]
  },
  {
   "cell_type": "code",
   "execution_count": 163,
   "id": "568d73bf",
   "metadata": {},
   "outputs": [
    {
     "data": {
      "text/plain": [
       "array([0.54951212, 0.66228017, 0.41739049, 0.30447264, 0.34098715,\n",
       "       0.13370723, 0.31238388, 0.11652744, 0.35241738, 0.17606053,\n",
       "       0.32240827])"
      ]
     },
     "execution_count": 163,
     "metadata": {},
     "output_type": "execute_result"
    }
   ],
   "source": [
    "sim_matrix[4]"
   ]
  },
  {
   "cell_type": "code",
   "execution_count": 164,
   "id": "30499f2f",
   "metadata": {},
   "outputs": [
    {
     "data": {
      "text/plain": [
       "0.6622801679880336"
      ]
     },
     "execution_count": 164,
     "metadata": {},
     "output_type": "execute_result"
    }
   ],
   "source": [
    "most_similar_topic_score"
   ]
  },
  {
   "cell_type": "code",
   "execution_count": 165,
   "id": "bf2b3dff",
   "metadata": {},
   "outputs": [],
   "source": [
    "dark_topics = dark_model.get_topics()\n",
    "reddit_topics = reddit_model.get_topics()\n"
   ]
  },
  {
   "cell_type": "code",
   "execution_count": 182,
   "id": "c83ba12a",
   "metadata": {},
   "outputs": [],
   "source": [
    "similar_topics = []\n",
    "not_matched_topics = []\n",
    "threshold = 0.8\n",
    "for topic in dark_topics.keys():\n",
    "  most_similar_topic = np.argmax(sim_matrix[topic + 1]) -1\n",
    "  most_similar_topic_score = np.max(sim_matrix[topic + 1])\n",
    "  if most_similar_topic >= threshold:\n",
    "    similar_topics.append([topic, most_similar_topic])\n",
    "  else:\n",
    "    not_matched_topics.append(topic)"
   ]
  },
  {
   "cell_type": "code",
   "execution_count": 227,
   "id": "dd36dcf0",
   "metadata": {},
   "outputs": [],
   "source": [
    "topic_labels_dark = dark_model.generate_topic_labels(nr_words=2, separator=\", \", topic_prefix=False)\n",
    "topic_labels_reddit = reddit_model.generate_topic_labels(nr_words=2, separator=\", \", topic_prefix=False)"
   ]
  },
  {
   "cell_type": "code",
   "execution_count": 251,
   "id": "b9c7b8dd",
   "metadata": {},
   "outputs": [
    {
     "data": {
      "text/plain": [
       "['written emma roth published june 2022 google agreed pay 100 million illinois resident settle class-action lawsuit one facial recognition feature google photo via gizmodo complaint alleges google face grouping tool automatically identifies face photo video uploaded photo violates illinois biometric information privacy act bipa introduced 2008 bipa bar company collecting storing sort biometric data including retina iris scan fingerprint voiceprint scan hand face geometry without making individual aware writing collecting kind data well long plan storing google direct violation law complaint claim allegedly collect analyzes person facial structure connection face grouping feature without providing notice obtaining informed written consent publishing data retention policy google agreed 100 million payout result class-action suit required provide user notice face grouping feature illinois resident appeared photo video google photo may 1st 2015 april 25th 2022 september 24th 2022 submit claim settlement website according class-action notice get anywhere 200 400 depending court-related expense many people file claim final approval hearing settlement take place september 28th pleased resolve matter relating specific law illinois remain committed building easy-to-use control user google spokesperson josé castañeda said statement verge google photo group similar face help organize picture person easily find old photo memory course visible easily turn functionality choose last year facebook ordered pay 650 million part another class-action lawsuit illinois complaint alleged platform now-discontinued tag suggestion tool analyzed user face photo provided suggestion face may belong collected stored biometric data violation state biometrics privacy law snapchat also face similar class-action lawsuit illinois claiming service unlawfully collect user voiceprint facial geometry data various lens filter',\n",
       " 'written emma roth published june 2022 google agreed pay 100 million illinois resident settle class-action lawsuit one facial recognition feature google photo via gizmodo complaint alleges google face grouping tool automatically identifies face photo video uploaded photo violates illinois biometric information privacy act bipa introduced 2008 bipa bar company collecting storing sort biometric data including retina iris scan fingerprint voiceprint scan hand face geometry without making individual aware writing collecting kind data well long plan storing google direct violation law complaint claim allegedly collect analyzes person facial structure connection face grouping feature without providing notice obtaining informed written consent publishing data retention policy google agreed 100 million payout result class-action suit required provide user notice face grouping feature illinois resident appeared photo video google photo may 1st 2015 april 25th 2022 september 24th 2022 submit claim settlement website according class-action notice get anywhere 200 400 depending court-related expense many people file claim final approval hearing settlement take place september 28th pleased resolve matter relating specific law illinois remain committed building easy-to-use control user google spokesperson josé castañeda said statement verge google photo group similar face help organize picture person easily find old photo memory course visible easily turn functionality choose last year facebook ordered pay 650 million part another class-action lawsuit illinois complaint alleged platform now-discontinued tag suggestion tool analyzed user face photo provided suggestion face may belong collected stored biometric data violation state biometrics privacy law snapchat also face similar class-action lawsuit illinois claiming service unlawfully collect user voiceprint facial geometry data various lens filter',\n",
       " 'written emma roth published june 2022 google agreed pay 100 million illinois resident settle class-action lawsuit one facial recognition feature google photo via gizmodo complaint alleges google face grouping tool automatically identifies face photo video uploaded photo violates illinois biometric information privacy act bipa introduced 2008 bipa bar company collecting storing sort biometric data including retina iris scan fingerprint voiceprint scan hand face geometry without making individual aware writing collecting kind data well long plan storing google direct violation law complaint claim allegedly collect analyzes person facial structure connection face grouping feature without providing notice obtaining informed written consent publishing data retention policy google agreed 100 million payout result class-action suit required provide user notice face grouping feature illinois resident appeared photo video google photo may 1st 2015 april 25th 2022 september 24th 2022 submit claim settlement website according class-action notice get anywhere 200 400 depending court-related expense many people file claim final approval hearing settlement take place september 28th pleased resolve matter relating specific law illinois remain committed building easy-to-use control user google spokesperson josé castañeda said statement verge google photo group similar face help organize picture person easily find old photo memory course visible easily turn functionality choose last year facebook ordered pay 650 million part another class-action lawsuit illinois complaint alleged platform now-discontinued tag suggestion tool analyzed user face photo provided suggestion face may belong collected stored biometric data violation state biometrics privacy law snapchat also face similar class-action lawsuit illinois claiming service unlawfully collect user voiceprint facial geometry data various lens filter']"
      ]
     },
     "execution_count": 251,
     "metadata": {},
     "output_type": "execute_result"
    }
   ],
   "source": [
    "dark_model.get_representative_docs(3)"
   ]
  },
  {
   "cell_type": "code",
   "execution_count": 228,
   "id": "9a0b24fb",
   "metadata": {},
   "outputs": [],
   "source": [
    "frequency_dark = {}\n",
    "for topic in dark_topics.keys():\n",
    "  topic_freq = dark_model.get_topic_freq(topic)\n",
    "  frequency_dark[topic_labels_dark[topic]] = topic_freq\n",
    "\n",
    "frequency_reddit = {}\n",
    "for topic in reddit_topics.keys():\n",
    "  topic_freq = reddit_model.get_topic_freq(topic)\n",
    "  frequency_reddit[topic_labels_reddit[topic]] = topic_freq"
   ]
  },
  {
   "cell_type": "code",
   "execution_count": 233,
   "id": "e32c20da",
   "metadata": {},
   "outputs": [],
   "source": [
    "import matplotlib.pyplot as plt\n",
    "\n",
    "plt.rcParams.update({\n",
    "    \"font.family\": \"serif\",\n",
    "    \"font.size\": 10,\n",
    "    \"axes.titlesize\": 11,\n",
    "    \"axes.labelsize\": 10,\n",
    "    \"xtick.labelsize\": 9,\n",
    "    \"ytick.labelsize\": 9\n",
    "})\n",
    "# Step 1: Sort the dictionary by value (descending)\n",
    "top_reddit = dict(sorted(frequency_reddit.items(), key=lambda x: x[1], reverse=True)[:5])\n",
    "top_darknet = dict(sorted(frequency_dark.items(), key=lambda x: x[1], reverse=True)[:5])"
   ]
  },
  {
   "cell_type": "code",
   "execution_count": 234,
   "id": "952e5fac",
   "metadata": {},
   "outputs": [
    {
     "data": {
      "image/png": "[encoded data removed]",
      "text/plain": [
       "<Figure size 650x300 with 2 Axes>"
      ]
     },
     "metadata": {},
     "output_type": "display_data"
    }
   ],
   "source": [
    "# Create figure and subplots\n",
    "fig, axes = plt.subplots(1, 2, figsize=(6.5, 3))  # Width fits 1-column IEEE/ACM page\n",
    "fig.subplots_adjust(wspace=0.4)  # space between plots\n",
    "\n",
    "# Plot Reddit\n",
    "axes[0].bar(top_reddit.keys(), top_reddit.values(), color='gray')\n",
    "axes[0].set_title('Reddit')\n",
    "axes[0].set_ylabel('Frequency')\n",
    "axes[0].set_xticklabels(top_reddit.keys(), rotation=45, ha='right')\n",
    "\n",
    "# Plot Darknet\n",
    "axes[1].bar(top_darknet.keys(), top_darknet.values(), color='dimgray')\n",
    "axes[1].set_title('Dark Web')\n",
    "axes[1].set_xticklabels(top_darknet.keys(), rotation=45, ha='right')\n",
    "\n",
    "# Remove top/right borders for cleaner look\n",
    "for ax in axes:\n",
    "    ax.spines['top'].set_visible(False)\n",
    "    ax.spines['right'].set_visible(False)\n",
    "\n",
    "# Tight layout for better spacing\n",
    "plt.tight_layout()"
   ]
  },
  {
   "cell_type": "code",
   "execution_count": 184,
   "id": "460078bd",
   "metadata": {},
   "outputs": [
    {
     "data": {
      "text/plain": [
       "[1, 3, 6, 7, 8, 9, 10, 12, 13, 24]"
      ]
     },
     "execution_count": 184,
     "metadata": {},
     "output_type": "execute_result"
    }
   ],
   "source": [
    "not_matched_topics"
   ]
  },
  {
   "cell_type": "code",
   "execution_count": 235,
   "id": "d3640e10",
   "metadata": {},
   "outputs": [],
   "source": [
    "similarity_matrix = np.random.rand(10, 10)  # Reddit x Darknet similarity\n",
    "darknet_topics = [f\"D{i}: topic terms...\" for i in range(sim_matrix.shape[0])]\n",
    "reddit_topics = [f\"R{j}: topic terms...\" for j in range(sim_matrix.shape[1])]\n"
   ]
  },
  {
   "cell_type": "code",
   "execution_count": 245,
   "id": "3233efd4",
   "metadata": {},
   "outputs": [
    {
     "name": "stdout",
     "output_type": "stream",
     "text": [
      "Most Dissimilar Reddit Topics (no close match on Darknet):\n",
      "        Reddit Topic  Max Cosine Similarity\n",
      "security, enterprise                  0.718\n",
      "      oauth, secures                  0.772\n",
      "         tail, linux                  0.838\n",
      "        tor, privacy                  0.924\n",
      "  darknet, shadowban                  0.960\n",
      "\n",
      "Most Dissimilar Darknet Topics (no close match on Reddit):\n",
      "          Darknet Topic  Max Cosine Similarity\n",
      "      illinois, lawsuit                  0.614\n",
      "    mongolia, mongolian                  0.825\n",
      "             2025, 2024                  0.877\n",
      "copyright, infringement                  0.887\n",
      "     privacy, analytics                  0.917\n"
     ]
    }
   ],
   "source": [
    "reddit_max = np.max(similarity_matrix, axis=1)\n",
    "reddit_dissimilar = sorted(zip(topic_labels_reddit, reddit_max), key=lambda x: x[1] + 1)[:5]\n",
    "\n",
    "# 2. For Darknet topics: find max similarity across all Reddit topics\n",
    "darknet_max = np.max(similarity_matrix, axis=0)\n",
    "darknet_dissimilar = sorted(zip(topic_labels_dark, darknet_max), key=lambda x: x[1] + 1)[:5]\n",
    "\n",
    "# 3. Create tables\n",
    "reddit_df = pd.DataFrame(reddit_dissimilar, columns=[\"Reddit Topic\", \"Max Cosine Similarity\"])\n",
    "darknet_df = pd.DataFrame(darknet_dissimilar, columns=[\"Darknet Topic\", \"Max Cosine Similarity\"])\n",
    "\n",
    "# Round similarity values\n",
    "reddit_df[\"Max Cosine Similarity\"] = reddit_df[\"Max Cosine Similarity\"].round(3)\n",
    "darknet_df[\"Max Cosine Similarity\"] = darknet_df[\"Max Cosine Similarity\"].round(3)\n",
    "\n",
    "# Display\n",
    "print(\"Most Dissimilar Reddit Topics (no close match on Darknet):\")\n",
    "print(reddit_df.to_string(index=False))\n",
    "print(\"\\nMost Dissimilar Darknet Topics (no close match on Reddit):\")\n",
    "print(darknet_df.to_string(index=False))"
   ]
  },
  {
   "cell_type": "code",
   "execution_count": 249,
   "id": "68e86aff",
   "metadata": {},
   "outputs": [
    {
     "name": "stdout",
     "output_type": "stream",
     "text": [
      "1. 'blocklists, p2p' and 'tor, privacy' with similarity 0.692\n",
      "2. 'linux, distro' and 'linux, linux4noobs' with similarity 0.678\n",
      "3. 'illinois, lawsuit' and 'darknet, shadowban' with similarity 0.662\n",
      "4. 'mongolia, mongolian' and 'tor, privacy' with similarity 0.647\n",
      "5. 'surveillance, police' and 'darknet, shadowban' with similarity 0.641\n",
      "6. 'mongolia, mongolian' and 'darknet, shadowban' with similarity 0.637\n",
      "7. 'rodneyyouplonker, 2023' and 'tor, privacy' with similarity 0.631\n",
      "8. 'snooping, platform' and 'darknet, shadowban' with similarity 0.625\n",
      "9. 'rodneyyouplonker, 2023' and 'darknet, shadowban' with similarity 0.618\n",
      "10. 'privacy, analytics' and 'darknet, shadowban' with similarity 0.601\n"
     ]
    }
   ],
   "source": [
    "import numpy as np\n",
    "\n",
    "# Given:\n",
    "# subreddit_topics: list of subreddit topic labels\n",
    "# darkweb_topics: list of dark web forum topic labels\n",
    "# cos_sim: cosine similarity matrix of shape (len(subreddit_topics), len(darkweb_topics))\n",
    "\n",
    "# Flatten and sort the similarity scores in descending order\n",
    "flat_indices = np.argsort(sim_matrix, axis=None)[::-1]\n",
    "\n",
    "# Extract the top matching pairs\n",
    "top_pairs = [(idx // sim_matrix.shape[1], idx % sim_matrix.shape[1], sim_matrix.flat[idx]) for idx in flat_indices]\n",
    "\n",
    "# Example: output top k pairs\n",
    "k = 10\n",
    "for i, (sub_idx, dark_idx, sim) in enumerate(top_pairs[:k]):\n",
    "    print(f\"{i+1}. '{topic_labels_dark[sub_idx]}' and '{topic_labels_reddit[dark_idx]}' with similarity {sim:.3f}\")\n"
   ]
  },
  {
   "cell_type": "code",
   "execution_count": 253,
   "id": "7fc22c11",
   "metadata": {},
   "outputs": [
    {
     "name": "stdout",
     "output_type": "stream",
     "text": [
      "Darkweb topics least discussed on Reddit:\n",
      "'kenya, passport' with max similarity 0.277\n",
      "'seedbox, seedboxes' with max similarity 0.301\n",
      "'ban, canada' with max similarity 0.303\n",
      "'review, site' with max similarity 0.333\n",
      "'tracker, tracking' with max similarity 0.356\n"
     ]
    }
   ],
   "source": [
    "import numpy as np\n",
    "\n",
    "# cos_sim shape: (num_subreddit_topics, num_darkweb_topics)\n",
    "max_sim_per_darkweb_topic = sim_matrix.max(axis=1)  # max similarity for each darkweb topic\n",
    "\n",
    "# Get darkweb topics with lowest max similarity to any subreddit topic\n",
    "dissimilar_darkweb_indices = np.argsort(max_sim_per_darkweb_topic)  # ascending order\n",
    "\n",
    "print(\"Darkweb topics least discussed on Reddit:\")\n",
    "for idx in dissimilar_darkweb_indices[:5]:  # top 5 least similar\n",
    "    print(f\"'{topic_labels_dark[idx]}' with max similarity {max_sim_per_darkweb_topic[idx]:.3f}\")\n"
   ]
  },
  {
   "cell_type": "code",
   "execution_count": 255,
   "id": "6379be73",
   "metadata": {},
   "outputs": [
    {
     "name": "stdout",
     "output_type": "stream",
     "text": [
      "Reddit topics least discussed on Darkweb:\n",
      "'doom, het' with max similarity 0.326\n",
      "'qubes, qubesos' with max similarity 0.437\n",
      "'security, enterprise' with max similarity 0.453\n",
      "'malware, antivirus' with max similarity 0.462\n",
      "'affiliate, spam' with max similarity 0.515\n"
     ]
    }
   ],
   "source": [
    "max_sim_per_subreddit_topic = sim_matrix.max(axis=0)  # max similarity for each subreddit topic\n",
    "\n",
    "# Get subreddit topics with lowest max similarity to any darkweb topic\n",
    "dissimilar_subreddit_indices = np.argsort(max_sim_per_subreddit_topic)  # ascending order\n",
    "\n",
    "print(\"Reddit topics least discussed on Darkweb:\")\n",
    "for idx in dissimilar_subreddit_indices[:5]:  # top 5 least similar\n",
    "    print(f\"'{topic_labels_reddit[idx]}' with max similarity {max_sim_per_subreddit_topic[idx]:.3f}\")\n"
   ]
  },
  {
   "cell_type": "code",
   "execution_count": null,
   "id": "0298296b",
   "metadata": {},
   "outputs": [],
   "source": [
    "topic"
   ]
  }
 ],
 "metadata": {
  "kernelspec": {
   "display_name": ".conda",
   "language": "python",
   "name": "python3"
  },
  "language_info": {
   "codemirror_mode": {
    "name": "ipython",
    "version": 3
   },
   "file_extension": ".py",
   "mimetype": "text/x-python",
   "name": "python",
   "nbconvert_exporter": "python",
   "pygments_lexer": "ipython3",
   "version": "3.11.11"
  }
 },
 "nbformat": 4,
 "nbformat_minor": 5
}
